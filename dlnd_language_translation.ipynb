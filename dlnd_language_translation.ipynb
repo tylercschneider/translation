{
 "cells": [
  {
   "cell_type": "markdown",
   "metadata": {
    "collapsed": true,
    "deletable": true,
    "editable": true
   },
   "source": [
    "# Language Translation\n",
    "In this project, you’re going to take a peek into the realm of neural network machine translation.  You’ll be training a sequence to sequence model on a dataset of English and French sentences that can translate new sentences from English to French.\n",
    "## Get the Data\n",
    "Since translating the whole language of English to French will take lots of time to train, we have provided you with a small portion of the English corpus."
   ]
  },
  {
   "cell_type": "code",
   "execution_count": 1,
   "metadata": {
    "collapsed": false,
    "deletable": true,
    "editable": true
   },
   "outputs": [],
   "source": [
    "\"\"\"\n",
    "DON'T MODIFY ANYTHING IN THIS CELL\n",
    "\"\"\"\n",
    "import helper\n",
    "import problem_unittests as tests\n",
    "\n",
    "source_path = 'data/small_vocab_en'\n",
    "target_path = 'data/small_vocab_fr'\n",
    "source_text = helper.load_data(source_path)\n",
    "target_text = helper.load_data(target_path)"
   ]
  },
  {
   "cell_type": "markdown",
   "metadata": {
    "deletable": true,
    "editable": true
   },
   "source": [
    "## Explore the Data\n",
    "Play around with view_sentence_range to view different parts of the data."
   ]
  },
  {
   "cell_type": "code",
   "execution_count": 2,
   "metadata": {
    "collapsed": false,
    "deletable": true,
    "editable": true
   },
   "outputs": [
    {
     "name": "stdout",
     "output_type": "stream",
     "text": [
      "Dataset Stats\n",
      "Roughly the number of unique words: 227\n",
      "Number of sentences: 137861\n",
      "Average number of words in a sentence: 13.225277634719028\n",
      "\n",
      "English sentences 0 to 10:\n",
      "new jersey is sometimes quiet during autumn , and it is snowy in april .\n",
      "the united states is usually chilly during july , and it is usually freezing in november .\n",
      "california is usually quiet during march , and it is usually hot in june .\n",
      "the united states is sometimes mild during june , and it is cold in september .\n",
      "your least liked fruit is the grape , but my least liked is the apple .\n",
      "his favorite fruit is the orange , but my favorite is the grape .\n",
      "paris is relaxing during december , but it is usually chilly in july .\n",
      "new jersey is busy during spring , and it is never hot in march .\n",
      "our least liked fruit is the lemon , but my least liked is the grape .\n",
      "the united states is sometimes busy during january , and it is sometimes warm in november .\n",
      "\n",
      "French sentences 0 to 10:\n",
      "new jersey est parfois calme pendant l' automne , et il est neigeux en avril .\n",
      "les états-unis est généralement froid en juillet , et il gèle habituellement en novembre .\n",
      "california est généralement calme en mars , et il est généralement chaud en juin .\n",
      "les états-unis est parfois légère en juin , et il fait froid en septembre .\n",
      "votre moins aimé fruit est le raisin , mais mon moins aimé est la pomme .\n",
      "son fruit préféré est l'orange , mais mon préféré est le raisin .\n",
      "paris est relaxant en décembre , mais il est généralement froid en juillet .\n",
      "new jersey est occupé au printemps , et il est jamais chaude en mars .\n",
      "notre fruit est moins aimé le citron , mais mon moins aimé est le raisin .\n",
      "les états-unis est parfois occupé en janvier , et il est parfois chaud en novembre .\n"
     ]
    }
   ],
   "source": [
    "view_sentence_range = (0, 10)\n",
    "\n",
    "\"\"\"\n",
    "DON'T MODIFY ANYTHING IN THIS CELL\n",
    "\"\"\"\n",
    "import numpy as np\n",
    "\n",
    "print('Dataset Stats')\n",
    "print('Roughly the number of unique words: {}'.format(len({word: None for word in source_text.split()})))\n",
    "\n",
    "sentences = source_text.split('\\n')\n",
    "word_counts = [len(sentence.split()) for sentence in sentences]\n",
    "print('Number of sentences: {}'.format(len(sentences)))\n",
    "print('Average number of words in a sentence: {}'.format(np.average(word_counts)))\n",
    "\n",
    "print()\n",
    "print('English sentences {} to {}:'.format(*view_sentence_range))\n",
    "print('\\n'.join(source_text.split('\\n')[view_sentence_range[0]:view_sentence_range[1]]))\n",
    "print()\n",
    "print('French sentences {} to {}:'.format(*view_sentence_range))\n",
    "print('\\n'.join(target_text.split('\\n')[view_sentence_range[0]:view_sentence_range[1]]))"
   ]
  },
  {
   "cell_type": "markdown",
   "metadata": {
    "deletable": true,
    "editable": true
   },
   "source": [
    "## Implement Preprocessing Function\n",
    "### Text to Word Ids\n",
    "As you did with other RNNs, you must turn the text into a number so the computer can understand it. In the function `text_to_ids()`, you'll turn `source_text` and `target_text` from words to ids.  However, you need to add the `<EOS>` word id at the end of `target_text`.  This will help the neural network predict when the sentence should end.\n",
    "\n",
    "You can get the `<EOS>` word id by doing:\n",
    "```python\n",
    "target_vocab_to_int['<EOS>']\n",
    "```\n",
    "You can get other word ids using `source_vocab_to_int` and `target_vocab_to_int`."
   ]
  },
  {
   "cell_type": "code",
   "execution_count": 3,
   "metadata": {
    "collapsed": false,
    "deletable": true,
    "editable": true
   },
   "outputs": [
    {
     "name": "stdout",
     "output_type": "stream",
     "text": [
      "Tests Passed\n"
     ]
    }
   ],
   "source": [
    "def text_to_ids(source_text, target_text, source_vocab_to_int, target_vocab_to_int):\n",
    "    \"\"\"\n",
    "    Convert source and target text to proper word ids\n",
    "    :param source_text: String that contains all the source text.\n",
    "    :param target_text: String that contains all the target text.\n",
    "    :param source_vocab_to_int: Dictionary to go from the source words to an id\n",
    "    :param target_vocab_to_int: Dictionary to go from the target words to an id\n",
    "    \n",
    "    :return: A tuple of lists (source_id_text, target_id_text)\n",
    "    \"\"\"\n",
    "    # TODO: Implement Function\n",
    "    source_id_text = []\n",
    "    target_id_text = []\n",
    "    for sentence in source_text.split('\\n'):\n",
    "        source_id_text.append([source_vocab_to_int[word] for word in sentence.split()])\n",
    "        \n",
    "        \n",
    "    for sentence in target_text.split('\\n'):\n",
    "        target_id_text.append([target_vocab_to_int[word] for word in sentence.split()] + [target_vocab_to_int['<EOS>']])\n",
    "    return (source_id_text, target_id_text)\n",
    "\n",
    "\"\"\"\n",
    "DON'T MODIFY ANYTHING IN THIS CELL THAT IS BELOW THIS LINE\n",
    "\"\"\"\n",
    "tests.test_text_to_ids(text_to_ids)"
   ]
  },
  {
   "cell_type": "markdown",
   "metadata": {
    "deletable": true,
    "editable": true
   },
   "source": [
    "### Preprocess all the data and save it\n",
    "Running the code cell below will preprocess all the data and save it to file."
   ]
  },
  {
   "cell_type": "code",
   "execution_count": 4,
   "metadata": {
    "collapsed": false,
    "deletable": true,
    "editable": true
   },
   "outputs": [],
   "source": [
    "\"\"\"\n",
    "DON'T MODIFY ANYTHING IN THIS CELL\n",
    "\"\"\"\n",
    "helper.preprocess_and_save_data(source_path, target_path, text_to_ids)"
   ]
  },
  {
   "cell_type": "markdown",
   "metadata": {
    "deletable": true,
    "editable": true
   },
   "source": [
    "# Check Point\n",
    "This is your first checkpoint. If you ever decide to come back to this notebook or have to restart the notebook, you can start from here. The preprocessed data has been saved to disk."
   ]
  },
  {
   "cell_type": "code",
   "execution_count": 5,
   "metadata": {
    "collapsed": false,
    "deletable": true,
    "editable": true
   },
   "outputs": [],
   "source": [
    "\"\"\"\n",
    "DON'T MODIFY ANYTHING IN THIS CELL\n",
    "\"\"\"\n",
    "import numpy as np\n",
    "import helper\n",
    "import problem_unittests as tests\n",
    "\n",
    "(source_int_text, target_int_text), (source_vocab_to_int, target_vocab_to_int), _ = helper.load_preprocess()"
   ]
  },
  {
   "cell_type": "markdown",
   "metadata": {
    "deletable": true,
    "editable": true
   },
   "source": [
    "### Check the Version of TensorFlow and Access to GPU\n",
    "This will check to make sure you have the correct version of TensorFlow and access to a GPU"
   ]
  },
  {
   "cell_type": "code",
   "execution_count": 6,
   "metadata": {
    "collapsed": false,
    "deletable": true,
    "editable": true
   },
   "outputs": [
    {
     "name": "stdout",
     "output_type": "stream",
     "text": [
      "TensorFlow Version: 1.1.0\n",
      "Default GPU Device: /gpu:0\n"
     ]
    }
   ],
   "source": [
    "\"\"\"\n",
    "DON'T MODIFY ANYTHING IN THIS CELL\n",
    "\"\"\"\n",
    "from distutils.version import LooseVersion\n",
    "import warnings\n",
    "import tensorflow as tf\n",
    "from tensorflow.python.layers.core import Dense\n",
    "\n",
    "# Check TensorFlow Version\n",
    "assert LooseVersion(tf.__version__) >= LooseVersion('1.1'), 'Please use TensorFlow version 1.1 or newer'\n",
    "print('TensorFlow Version: {}'.format(tf.__version__))\n",
    "\n",
    "# Check for a GPU\n",
    "if not tf.test.gpu_device_name():\n",
    "    warnings.warn('No GPU found. Please use a GPU to train your neural network.')\n",
    "else:\n",
    "    print('Default GPU Device: {}'.format(tf.test.gpu_device_name()))"
   ]
  },
  {
   "cell_type": "markdown",
   "metadata": {
    "deletable": true,
    "editable": true
   },
   "source": [
    "## Build the Neural Network\n",
    "You'll build the components necessary to build a Sequence-to-Sequence model by implementing the following functions below:\n",
    "- `model_inputs`\n",
    "- `process_decoder_input`\n",
    "- `encoding_layer`\n",
    "- `decoding_layer_train`\n",
    "- `decoding_layer_infer`\n",
    "- `decoding_layer`\n",
    "- `seq2seq_model`\n",
    "\n",
    "### Input\n",
    "Implement the `model_inputs()` function to create TF Placeholders for the Neural Network. It should create the following placeholders:\n",
    "\n",
    "- Input text placeholder named \"input\" using the TF Placeholder name parameter with rank 2.\n",
    "- Targets placeholder with rank 2.\n",
    "- Learning rate placeholder with rank 0.\n",
    "- Keep probability placeholder named \"keep_prob\" using the TF Placeholder name parameter with rank 0.\n",
    "- Target sequence length placeholder named \"target_sequence_length\" with rank 1\n",
    "- Max target sequence length tensor named \"max_target_len\" getting its value from applying tf.reduce_max on the target_sequence_length placeholder. Rank 0.\n",
    "- Source sequence length placeholder named \"source_sequence_length\" with rank 1\n",
    "\n",
    "Return the placeholders in the following the tuple (input, targets, learning rate, keep probability, target sequence length, max target sequence length, source sequence length)"
   ]
  },
  {
   "cell_type": "code",
   "execution_count": 7,
   "metadata": {
    "collapsed": false,
    "deletable": true,
    "editable": true
   },
   "outputs": [
    {
     "name": "stdout",
     "output_type": "stream",
     "text": [
      "Tests Passed\n"
     ]
    }
   ],
   "source": [
    "def model_inputs():\n",
    "    \"\"\"\n",
    "    Create TF Placeholders for input, targets, learning rate, and lengths of source and target sequences.\n",
    "    :return: Tuple (input, targets, learning rate, keep probability, target sequence length,\n",
    "    max target sequence length, source sequence length)\n",
    "    \"\"\"\n",
    "    # TODO: Implement Function\n",
    "    input_ = tf.placeholder(tf.int32, [None, None], name=\"input\")\n",
    "    targets = tf.placeholder(tf.int32, [None, None], name=\"target\")\n",
    "    learn_rate = tf.placeholder(tf.float32, name=\"l_rate\")\n",
    "    keep_prob = tf.placeholder(tf.float32, name=\"keep_prob\")\n",
    "    \n",
    "    tar_seq = tf.placeholder(tf.int32, [None], name=\"target_sequence_length\")\n",
    "    max_tar_seq = tf.reduce_max(tar_seq, name=\"max_target_len\")\n",
    "    source_seq_len = tf.placeholder(tf.int32, [None], name=\"source_sequence_length\")\n",
    "\n",
    "    return input_, targets, learn_rate, keep_prob, tar_seq, max_tar_seq, source_seq_len\n",
    "\n",
    "\n",
    "\"\"\"\n",
    "DON'T MODIFY ANYTHING IN THIS CELL THAT IS BELOW THIS LINE\n",
    "\"\"\"\n",
    "tests.test_model_inputs(model_inputs)"
   ]
  },
  {
   "cell_type": "markdown",
   "metadata": {
    "deletable": true,
    "editable": true
   },
   "source": [
    "### Process Decoder Input\n",
    "Implement `process_decoder_input` by removing the last word id from each batch in `target_data` and concat the GO ID to the begining of each batch."
   ]
  },
  {
   "cell_type": "code",
   "execution_count": 8,
   "metadata": {
    "collapsed": false,
    "deletable": true,
    "editable": true
   },
   "outputs": [
    {
     "name": "stdout",
     "output_type": "stream",
     "text": [
      "Tests Passed\n"
     ]
    }
   ],
   "source": [
    "def process_decoder_input(target_data, target_vocab_to_int, batch_size):\n",
    "    \"\"\"\n",
    "    Preprocess target data for encoding\n",
    "    :param target_data: Target Placehoder\n",
    "    :param target_vocab_to_int: Dictionary to go from the target words to an id\n",
    "    :param batch_size: Batch Size\n",
    "    :return: Preprocessed target data\n",
    "    \"\"\"\n",
    "    # TODO: Implement Function\n",
    "    one_time = tf.strided_slice(target_data, [0, 0], [batch_size, -1], [1, 1])\n",
    "    go = tf.fill([batch_size, 1], target_vocab_to_int['<GO>'])\n",
    "    final = tf.concat([go, one_time], 1)\n",
    "    \n",
    "    return final\n",
    "\n",
    "\"\"\"\n",
    "DON'T MODIFY ANYTHING IN THIS CELL THAT IS BELOW THIS LINE\n",
    "\"\"\"\n",
    "tests.test_process_encoding_input(process_decoder_input)"
   ]
  },
  {
   "cell_type": "markdown",
   "metadata": {
    "deletable": true,
    "editable": true
   },
   "source": [
    "### Encoding\n",
    "Implement `encoding_layer()` to create a Encoder RNN layer:\n",
    " * Embed the encoder input using [`tf.contrib.layers.embed_sequence`](https://www.tensorflow.org/api_docs/python/tf/contrib/layers/embed_sequence)\n",
    " * Construct a [stacked](https://github.com/tensorflow/tensorflow/blob/6947f65a374ebf29e74bb71e36fd82760056d82c/tensorflow/docs_src/tutorials/recurrent.md#stacking-multiple-lstms) [`tf.contrib.rnn.LSTMCell`](https://www.tensorflow.org/api_docs/python/tf/contrib/rnn/LSTMCell) wrapped in a [`tf.contrib.rnn.DropoutWrapper`](https://www.tensorflow.org/api_docs/python/tf/contrib/rnn/DropoutWrapper)\n",
    " * Pass cell and embedded input to [`tf.nn.dynamic_rnn()`](https://www.tensorflow.org/api_docs/python/tf/nn/dynamic_rnn)"
   ]
  },
  {
   "cell_type": "code",
   "execution_count": 9,
   "metadata": {
    "collapsed": false,
    "deletable": true,
    "editable": true,
    "scrolled": false
   },
   "outputs": [
    {
     "name": "stdout",
     "output_type": "stream",
     "text": [
      "Tests Passed\n"
     ]
    }
   ],
   "source": [
    "from imp import reload\n",
    "reload(tests)\n",
    "\n",
    "def encoding_layer(rnn_inputs, rnn_size, num_layers, keep_prob, \n",
    "                   source_sequence_length, source_vocab_size, \n",
    "                   encoding_embedding_size):\n",
    "    \"\"\"\n",
    "    Create encoding layer\n",
    "    :param rnn_inputs: Inputs for the RNN\n",
    "    :param rnn_size: RNN Size\n",
    "    :param num_layers: Number of layers\n",
    "    :param keep_prob: Dropout keep probability\n",
    "    :param source_sequence_length: a list of the lengths of each sequence in the batch\n",
    "    :param source_vocab_size: vocabulary size of source data\n",
    "    :param encoding_embedding_size: embedding size of source data\n",
    "    :return: tuple (RNN output, RNN state)\n",
    "    \"\"\"\n",
    "    # TODO: Implement Function\n",
    "    enc_input = tf.contrib.layers.embed_sequence(rnn_inputs, source_vocab_size, encoding_embedding_size)\n",
    "    \n",
    "    def cell(rnn_size):\n",
    "        cell = tf.contrib.rnn.DropoutWrapper(tf.contrib.rnn.LSTMCell(rnn_size, initializer=tf.random_uniform_initializer(-0.1, 0.1, seed=2)), keep_prob)\n",
    "        return cell\n",
    "    \n",
    "    multi_cell = tf.contrib.rnn.MultiRNNCell([cell(rnn_size) for _ in range(num_layers)])\n",
    "    rnn_output, rnn_state = tf.nn.dynamic_rnn(multi_cell, enc_input, sequence_length=source_sequence_length, dtype=tf.float32)\n",
    "   \n",
    "    return (rnn_output, rnn_state)\n",
    "\n",
    "\"\"\"\n",
    "DON'T MODIFY ANYTHING IN THIS CELL THAT IS BELOW THIS LINE\n",
    "\"\"\"\n",
    "tests.test_encoding_layer(encoding_layer)"
   ]
  },
  {
   "cell_type": "markdown",
   "metadata": {
    "deletable": true,
    "editable": true
   },
   "source": [
    "### Decoding - Training\n",
    "Create a training decoding layer:\n",
    "* Create a [`tf.contrib.seq2seq.TrainingHelper`](https://www.tensorflow.org/api_docs/python/tf/contrib/seq2seq/TrainingHelper) \n",
    "* Create a [`tf.contrib.seq2seq.BasicDecoder`](https://www.tensorflow.org/api_docs/python/tf/contrib/seq2seq/BasicDecoder)\n",
    "* Obtain the decoder outputs from [`tf.contrib.seq2seq.dynamic_decode`](https://www.tensorflow.org/api_docs/python/tf/contrib/seq2seq/dynamic_decode)"
   ]
  },
  {
   "cell_type": "code",
   "execution_count": 10,
   "metadata": {
    "collapsed": false,
    "deletable": true,
    "editable": true
   },
   "outputs": [
    {
     "name": "stdout",
     "output_type": "stream",
     "text": [
      "Tests Passed\n"
     ]
    }
   ],
   "source": [
    "\n",
    "def decoding_layer_train(encoder_state, dec_cell, dec_embed_input, \n",
    "                         target_sequence_length, max_summary_length, \n",
    "                         output_layer, keep_prob):\n",
    "    \"\"\"\n",
    "    Create a decoding layer for training\n",
    "    :param encoder_state: Encoder State\n",
    "    :param dec_cell: Decoder RNN Cell\n",
    "    :param dec_embed_input: Decoder embedded input\n",
    "    :param target_sequence_length: The lengths of each sequence in the target batch\n",
    "    :param max_summary_length: The length of the longest sequence in the batch\n",
    "    :param output_layer: Function to apply the output layer\n",
    "    :param keep_prob: Dropout keep probability\n",
    "    :return: BasicDecoderOutput containing training logits and sample_id\n",
    "    \"\"\"\n",
    "    # TODO: Implement Function\n",
    "    \n",
    "    train_help = tf.contrib.seq2seq.TrainingHelper(inputs=dec_embed_input, sequence_length=target_sequence_length, time_major=False)\n",
    "    \n",
    "    train_decode = tf.contrib.seq2seq.BasicDecoder(dec_cell, train_help, encoder_state, output_layer)\n",
    "    \n",
    "    decode_train_out, _ = tf.contrib.seq2seq.dynamic_decode(train_decode, impute_finished=True, maximum_iterations=max_summary_length)\n",
    "    \n",
    "    \n",
    "    return decode_train_out\n",
    "\n",
    "\n",
    "\n",
    "\"\"\"\n",
    "DON'T MODIFY ANYTHING IN THIS CELL THAT IS BELOW THIS LINE\n",
    "\"\"\"\n",
    "tests.test_decoding_layer_train(decoding_layer_train)"
   ]
  },
  {
   "cell_type": "markdown",
   "metadata": {
    "deletable": true,
    "editable": true
   },
   "source": [
    "### Decoding - Inference\n",
    "Create inference decoder:\n",
    "* Create a [`tf.contrib.seq2seq.GreedyEmbeddingHelper`](https://www.tensorflow.org/api_docs/python/tf/contrib/seq2seq/GreedyEmbeddingHelper)\n",
    "* Create a [`tf.contrib.seq2seq.BasicDecoder`](https://www.tensorflow.org/api_docs/python/tf/contrib/seq2seq/BasicDecoder)\n",
    "* Obtain the decoder outputs from [`tf.contrib.seq2seq.dynamic_decode`](https://www.tensorflow.org/api_docs/python/tf/contrib/seq2seq/dynamic_decode)"
   ]
  },
  {
   "cell_type": "code",
   "execution_count": 11,
   "metadata": {
    "collapsed": false,
    "deletable": true,
    "editable": true,
    "scrolled": true
   },
   "outputs": [
    {
     "name": "stdout",
     "output_type": "stream",
     "text": [
      "Tests Passed\n"
     ]
    }
   ],
   "source": [
    "def decoding_layer_infer(encoder_state, dec_cell, dec_embeddings, start_of_sequence_id,\n",
    "                         end_of_sequence_id, max_target_sequence_length,\n",
    "                         vocab_size, output_layer, batch_size, keep_prob):\n",
    "    \"\"\"\n",
    "    Create a decoding layer for inference\n",
    "    :param encoder_state: Encoder state\n",
    "    :param dec_cell: Decoder RNN Cell\n",
    "    :param dec_embeddings: Decoder embeddings\n",
    "    :param start_of_sequence_id: GO ID\n",
    "    :param end_of_sequence_id: EOS Id\n",
    "    :param max_target_sequence_length: Maximum length of target sequences\n",
    "    \n",
    "    :param vocab_size: Size of decoder/target vocabulary\n",
    "    :param decoding_scope: TenorFlow Variable Scope for decoding\n",
    "    :param output_layer: Function to apply the output layer\n",
    "    :param batch_size: Batch size\n",
    "    \n",
    "    :param keep_prob: Dropout keep probability\n",
    "    \n",
    "    :return: BasicDecoderOutput containing inference logits and sample_id\n",
    "    \"\"\"\n",
    "    # TODO: Implement Function\n",
    "\n",
    "    start_tokens = tf.tile(tf.constant([start_of_sequence_id], dtype=tf.int32), [batch_size], name=\"start_tokens\")\n",
    "    inference_help = tf.contrib.seq2seq.GreedyEmbeddingHelper(dec_embeddings, start_tokens, end_of_sequence_id)\n",
    "\n",
    "    inference_decode = tf.contrib.seq2seq.BasicDecoder(dec_cell, inference_help, encoder_state, output_layer)\n",
    "\n",
    "    inference_output, _ = tf.contrib.seq2seq.dynamic_decode(inference_decode, impute_finished=True, maximum_iterations=max_target_sequence_length)\n",
    "    return inference_output\n",
    "\n",
    "\n",
    "\n",
    "\"\"\"\n",
    "DON'T MODIFY ANYTHING IN THIS CELL THAT IS BELOW THIS LINE\n",
    "\"\"\"\n",
    "tests.test_decoding_layer_infer(decoding_layer_infer)"
   ]
  },
  {
   "cell_type": "markdown",
   "metadata": {
    "deletable": true,
    "editable": true
   },
   "source": [
    "### Build the Decoding Layer\n",
    "Implement `decoding_layer()` to create a Decoder RNN layer.\n",
    "\n",
    "* Embed the target sequences\n",
    "* Construct the decoder LSTM cell (just like you constructed the encoder cell above)\n",
    "* Create an output layer to map the outputs of the decoder to the elements of our vocabulary\n",
    "* Use the your `decoding_layer_train(encoder_state, dec_cell, dec_embed_input, target_sequence_length, max_target_sequence_length, output_layer, keep_prob)` function to get the training logits.\n",
    "* Use your `decoding_layer_infer(encoder_state, dec_cell, dec_embeddings, start_of_sequence_id, end_of_sequence_id, max_target_sequence_length, vocab_size, output_layer, batch_size, keep_prob)` function to get the inference logits.\n",
    "\n",
    "Note: You'll need to use [tf.variable_scope](https://www.tensorflow.org/api_docs/python/tf/variable_scope) to share variables between training and inference."
   ]
  },
  {
   "cell_type": "code",
   "execution_count": 12,
   "metadata": {
    "collapsed": false,
    "deletable": true,
    "editable": true
   },
   "outputs": [
    {
     "name": "stdout",
     "output_type": "stream",
     "text": [
      "Tests Passed\n"
     ]
    }
   ],
   "source": [
    "def decoding_layer(dec_input, encoder_state,\n",
    "                   target_sequence_length, max_target_sequence_length,\n",
    "                   rnn_size,\n",
    "                   num_layers, target_vocab_to_int, target_vocab_size,\n",
    "                   batch_size, keep_prob, decoding_embedding_size):\n",
    "    \"\"\"\n",
    "    Create decoding layer\n",
    "    :param dec_input: Decoder input\n",
    "    :param encoder_state: Encoder state\n",
    "    :param target_sequence_length: The lengths of each sequence in the target batch\n",
    "    :param max_target_sequence_length: Maximum length of target sequences\n",
    "    \n",
    "    :param rnn_size: RNN Size\n",
    "    :param num_layers: Number of layers\n",
    "    \n",
    "    :param target_vocab_to_int: Dictionary to go from the target words to an id\n",
    "    :param target_vocab_size: Size of target vocabulary\n",
    "    \n",
    "    :param batch_size: The size of the batch\n",
    "    \n",
    "    :param keep_prob: Dropout keep probability\n",
    "    :param decoding_embedding_size: Decoding embedding size\n",
    "    :return: Tuple of (Training BasicDecoderOutput, Inference BasicDecoderOutput)\n",
    "    \"\"\"\n",
    "    \n",
    "    # TODO: Implement Function\n",
    "    def cell(rnn_size):\n",
    "        cell = tf.contrib.rnn.DropoutWrapper(tf.contrib.rnn.LSTMCell(rnn_size, initializer=tf.random_uniform_initializer(-0.1, 0.1, seed=2)), keep_prob)\n",
    "        return cell\n",
    "    \n",
    "    dec_cell = tf.contrib.rnn.MultiRNNCell([cell(rnn_size) for _ in range(num_layers)])\n",
    "    \n",
    "    dec_embeddings = tf.Variable(tf.random_uniform([target_vocab_size, decoding_embedding_size]))\n",
    "    dec_embed_input = tf.nn.embedding_lookup(dec_embeddings, dec_input)\n",
    "    \n",
    "    start_of_sequence_id = target_vocab_to_int['<GO>']\n",
    "    end_of_sequence_id = target_vocab_to_int['<EOS>']\n",
    "    output_layer = Dense(target_vocab_size, kernel_initializer=tf.truncated_normal_initializer(mean=0.0, stddev=0.1))\n",
    "    \n",
    "    \n",
    "    with tf.variable_scope(\"decode\"):\n",
    "        train_logits = decoding_layer_train(encoder_state, dec_cell, dec_embed_input, target_sequence_length, max_target_sequence_length, output_layer, keep_prob)\n",
    "    \n",
    "    \n",
    "    with tf.variable_scope(\"decode\", reuse=True):\n",
    "        inference_logits = decoding_layer_infer(encoder_state, dec_cell, dec_embeddings, start_of_sequence_id, end_of_sequence_id, max_target_sequence_length, target_vocab_size, output_layer, batch_size, keep_prob)\n",
    "        \n",
    "    \n",
    "    return train_logits, inference_logits\n",
    "\n",
    "\n",
    "\n",
    "\"\"\"\n",
    "DON'T MODIFY ANYTHING IN THIS CELL THAT IS BELOW THIS LINE\n",
    "\"\"\"\n",
    "tests.test_decoding_layer(decoding_layer)"
   ]
  },
  {
   "cell_type": "markdown",
   "metadata": {
    "deletable": true,
    "editable": true
   },
   "source": [
    "### Build the Neural Network\n",
    "Apply the functions you implemented above to:\n",
    "\n",
    "- Encode the input using your `encoding_layer(rnn_inputs, rnn_size, num_layers, keep_prob,  source_sequence_length, source_vocab_size, encoding_embedding_size)`.\n",
    "- Process target data using your `process_decoder_input(target_data, target_vocab_to_int, batch_size)` function.\n",
    "- Decode the encoded input using your `decoding_layer(dec_input, enc_state, target_sequence_length, max_target_sentence_length, rnn_size, num_layers, target_vocab_to_int, target_vocab_size, batch_size, keep_prob, dec_embedding_size)` function."
   ]
  },
  {
   "cell_type": "code",
   "execution_count": 13,
   "metadata": {
    "collapsed": false,
    "deletable": true,
    "editable": true
   },
   "outputs": [
    {
     "name": "stdout",
     "output_type": "stream",
     "text": [
      "Tests Passed\n"
     ]
    }
   ],
   "source": [
    "def seq2seq_model(input_data, target_data, keep_prob, batch_size,\n",
    "                  source_sequence_length, target_sequence_length,\n",
    "                  max_target_sentence_length,\n",
    "                  source_vocab_size, target_vocab_size,\n",
    "                  enc_embedding_size, dec_embedding_size,\n",
    "                  rnn_size, num_layers, target_vocab_to_int):\n",
    "    \"\"\"\n",
    "    Build the Sequence-to-Sequence part of the neural network\n",
    "    :param input_data: Input placeholder\n",
    "    :param target_data: Target placeholder\n",
    "    :param keep_prob: Dropout keep probability placeholder\n",
    "    :param batch_size: Batch Size\n",
    "    :param source_sequence_length: Sequence Lengths of source sequences in the batch\n",
    "    :param target_sequence_length: Sequence Lengths of target sequences in the batch\n",
    "    :param source_vocab_size: Source vocabulary size\n",
    "    :param target_vocab_size: Target vocabulary size\n",
    "    :param enc_embedding_size: Decoder embedding size\n",
    "    :param dec_embedding_size: Encoder embedding size\n",
    "    :param rnn_size: RNN Size\n",
    "    :param num_layers: Number of layers\n",
    "    :param target_vocab_to_int: Dictionary to go from the target words to an id\n",
    "    :return: Tuple of (Training BasicDecoderOutput, Inference BasicDecoderOutput)\n",
    "    \"\"\"\n",
    "    # TODO: Implement Function\n",
    "    \n",
    "    _, enc_state = encoding_layer(input_data, rnn_size, num_layers, keep_prob, source_sequence_length, source_vocab_size, enc_embedding_size)\n",
    "    \n",
    "    dec_input = process_decoder_input(target_data, target_vocab_to_int, batch_size)\n",
    "    \n",
    "    training_decoder_output, inference_decoder_output = decoding_layer(dec_input, enc_state, target_sequence_length, max_target_sentence_length, rnn_size, num_layers, target_vocab_to_int, target_vocab_size, batch_size, keep_prob, dec_embedding_size)\n",
    "    \n",
    "    \n",
    "    \n",
    "    return training_decoder_output, inference_decoder_output\n",
    "\n",
    "\n",
    "\"\"\"\n",
    "DON'T MODIFY ANYTHING IN THIS CELL THAT IS BELOW THIS LINE\n",
    "\"\"\"\n",
    "tests.test_seq2seq_model(seq2seq_model)"
   ]
  },
  {
   "cell_type": "markdown",
   "metadata": {
    "deletable": true,
    "editable": true
   },
   "source": [
    "## Neural Network Training\n",
    "### Hyperparameters\n",
    "Tune the following parameters:\n",
    "\n",
    "- Set `epochs` to the number of epochs.\n",
    "- Set `batch_size` to the batch size.\n",
    "- Set `rnn_size` to the size of the RNNs.\n",
    "- Set `num_layers` to the number of layers.\n",
    "- Set `encoding_embedding_size` to the size of the embedding for the encoder.\n",
    "- Set `decoding_embedding_size` to the size of the embedding for the decoder.\n",
    "- Set `learning_rate` to the learning rate.\n",
    "- Set `keep_probability` to the Dropout keep probability\n",
    "- Set `display_step` to state how many steps between each debug output statement"
   ]
  },
  {
   "cell_type": "code",
   "execution_count": 33,
   "metadata": {
    "collapsed": true,
    "deletable": true,
    "editable": true
   },
   "outputs": [],
   "source": [
    "# Number of Epochs\n",
    "epochs = 20\n",
    "# Batch Size\n",
    "batch_size = 128\n",
    "# RNN Size\n",
    "rnn_size = 50\n",
    "# Number of Layers\n",
    "num_layers = 2\n",
    "# Embedding Size\n",
    "encoding_embedding_size = 13\n",
    "decoding_embedding_size = 13\n",
    "# Learning Rate\n",
    "learning_rate = .001\n",
    "# Dropout Keep Probability\n",
    "keep_probability = 1\n",
    "display_step = 50"
   ]
  },
  {
   "cell_type": "markdown",
   "metadata": {
    "deletable": true,
    "editable": true
   },
   "source": [
    "### Build the Graph\n",
    "Build the graph using the neural network you implemented."
   ]
  },
  {
   "cell_type": "code",
   "execution_count": 34,
   "metadata": {
    "collapsed": true,
    "deletable": true,
    "editable": true
   },
   "outputs": [],
   "source": [
    "\"\"\"\n",
    "DON'T MODIFY ANYTHING IN THIS CELL\n",
    "\"\"\"\n",
    "save_path = 'checkpoints/dev'\n",
    "(source_int_text, target_int_text), (source_vocab_to_int, target_vocab_to_int), _ = helper.load_preprocess()\n",
    "max_target_sentence_length = max([len(sentence) for sentence in source_int_text])\n",
    "\n",
    "train_graph = tf.Graph()\n",
    "with train_graph.as_default():\n",
    "    input_data, targets, lr, keep_prob, target_sequence_length, max_target_sequence_length, source_sequence_length = model_inputs()\n",
    "\n",
    "    #sequence_length = tf.placeholder_with_default(max_target_sentence_length, None, name='sequence_length')\n",
    "    input_shape = tf.shape(input_data)\n",
    "\n",
    "    train_logits, inference_logits = seq2seq_model(tf.reverse(input_data, [-1]),\n",
    "                                                   targets,\n",
    "                                                   keep_prob,\n",
    "                                                   batch_size,\n",
    "                                                   source_sequence_length,\n",
    "                                                   target_sequence_length,\n",
    "                                                   max_target_sequence_length,\n",
    "                                                   len(source_vocab_to_int),\n",
    "                                                   len(target_vocab_to_int),\n",
    "                                                   encoding_embedding_size,\n",
    "                                                   decoding_embedding_size,\n",
    "                                                   rnn_size,\n",
    "                                                   num_layers,\n",
    "                                                   target_vocab_to_int)\n",
    "\n",
    "\n",
    "    training_logits = tf.identity(train_logits.rnn_output, name='logits')\n",
    "    inference_logits = tf.identity(inference_logits.sample_id, name='predictions')\n",
    "\n",
    "    masks = tf.sequence_mask(target_sequence_length, max_target_sequence_length, dtype=tf.float32, name='masks')\n",
    "\n",
    "    with tf.name_scope(\"optimization\"):\n",
    "        # Loss function\n",
    "        cost = tf.contrib.seq2seq.sequence_loss(\n",
    "            training_logits,\n",
    "            targets,\n",
    "            masks)\n",
    "\n",
    "        # Optimizer\n",
    "        optimizer = tf.train.AdamOptimizer(lr)\n",
    "\n",
    "        # Gradient Clipping\n",
    "        gradients = optimizer.compute_gradients(cost)\n",
    "        capped_gradients = [(tf.clip_by_value(grad, -1., 1.), var) for grad, var in gradients if grad is not None]\n",
    "        train_op = optimizer.apply_gradients(capped_gradients)\n"
   ]
  },
  {
   "cell_type": "markdown",
   "metadata": {
    "deletable": true,
    "editable": true
   },
   "source": [
    "Batch and pad the source and target sequences"
   ]
  },
  {
   "cell_type": "code",
   "execution_count": 35,
   "metadata": {
    "collapsed": true,
    "deletable": true,
    "editable": true
   },
   "outputs": [],
   "source": [
    "\"\"\"\n",
    "DON'T MODIFY ANYTHING IN THIS CELL\n",
    "\"\"\"\n",
    "def pad_sentence_batch(sentence_batch, pad_int):\n",
    "    \"\"\"Pad sentences with <PAD> so that each sentence of a batch has the same length\"\"\"\n",
    "    max_sentence = max([len(sentence) for sentence in sentence_batch])\n",
    "    return [sentence + [pad_int] * (max_sentence - len(sentence)) for sentence in sentence_batch]\n",
    "\n",
    "\n",
    "def get_batches(sources, targets, batch_size, source_pad_int, target_pad_int):\n",
    "    \"\"\"Batch targets, sources, and the lengths of their sentences together\"\"\"\n",
    "    for batch_i in range(0, len(sources)//batch_size):\n",
    "        start_i = batch_i * batch_size\n",
    "\n",
    "        # Slice the right amount for the batch\n",
    "        sources_batch = sources[start_i:start_i + batch_size]\n",
    "        targets_batch = targets[start_i:start_i + batch_size]\n",
    "\n",
    "        # Pad\n",
    "        pad_sources_batch = np.array(pad_sentence_batch(sources_batch, source_pad_int))\n",
    "        pad_targets_batch = np.array(pad_sentence_batch(targets_batch, target_pad_int))\n",
    "\n",
    "        # Need the lengths for the _lengths parameters\n",
    "        pad_targets_lengths = []\n",
    "        for target in pad_targets_batch:\n",
    "            pad_targets_lengths.append(len(target))\n",
    "\n",
    "        pad_source_lengths = []\n",
    "        for source in pad_sources_batch:\n",
    "            pad_source_lengths.append(len(source))\n",
    "\n",
    "        yield pad_sources_batch, pad_targets_batch, pad_source_lengths, pad_targets_lengths\n"
   ]
  },
  {
   "cell_type": "markdown",
   "metadata": {
    "deletable": true,
    "editable": true
   },
   "source": [
    "### Train\n",
    "Train the neural network on the preprocessed data. If you have a hard time getting a good loss, check the forms to see if anyone is having the same problem."
   ]
  },
  {
   "cell_type": "code",
   "execution_count": 37,
   "metadata": {
    "collapsed": false,
    "deletable": true,
    "editable": true,
    "scrolled": false
   },
   "outputs": [
    {
     "name": "stdout",
     "output_type": "stream",
     "text": [
      "Epoch   0 Batch   50/1077 - Train Accuracy: 0.2590, Validation Accuracy: 0.3356, Loss: 3.7169\n",
      "Epoch   0 Batch  100/1077 - Train Accuracy: 0.2617, Validation Accuracy: 0.3363, Loss: 3.4352\n",
      "Epoch   0 Batch  150/1077 - Train Accuracy: 0.3170, Validation Accuracy: 0.3363, Loss: 3.1149\n",
      "Epoch   0 Batch  200/1077 - Train Accuracy: 0.3027, Validation Accuracy: 0.3615, Loss: 3.0972\n",
      "Epoch   0 Batch  250/1077 - Train Accuracy: 0.4006, Validation Accuracy: 0.4080, Loss: 2.7681\n",
      "Epoch   0 Batch  300/1077 - Train Accuracy: 0.3195, Validation Accuracy: 0.4116, Loss: 2.9376\n",
      "Epoch   0 Batch  350/1077 - Train Accuracy: 0.3656, Validation Accuracy: 0.4354, Loss: 2.7472\n",
      "Epoch   0 Batch  400/1077 - Train Accuracy: 0.3820, Validation Accuracy: 0.4414, Loss: 2.5924\n",
      "Epoch   0 Batch  450/1077 - Train Accuracy: 0.4121, Validation Accuracy: 0.4570, Loss: 2.4909\n",
      "Epoch   0 Batch  500/1077 - Train Accuracy: 0.4176, Validation Accuracy: 0.4624, Loss: 2.3782\n",
      "Epoch   0 Batch  550/1077 - Train Accuracy: 0.4066, Validation Accuracy: 0.4833, Loss: 2.3991\n",
      "Epoch   0 Batch  600/1077 - Train Accuracy: 0.4825, Validation Accuracy: 0.4982, Loss: 2.1000\n",
      "Epoch   0 Batch  650/1077 - Train Accuracy: 0.4305, Validation Accuracy: 0.4897, Loss: 2.1670\n",
      "Epoch   0 Batch  700/1077 - Train Accuracy: 0.4559, Validation Accuracy: 0.4954, Loss: 1.9778\n",
      "Epoch   0 Batch  750/1077 - Train Accuracy: 0.4453, Validation Accuracy: 0.4872, Loss: 1.9255\n",
      "Epoch   0 Batch  800/1077 - Train Accuracy: 0.4332, Validation Accuracy: 0.4936, Loss: 1.8995\n",
      "Epoch   0 Batch  850/1077 - Train Accuracy: 0.4688, Validation Accuracy: 0.5082, Loss: 1.7714\n",
      "Epoch   0 Batch  900/1077 - Train Accuracy: 0.4516, Validation Accuracy: 0.4915, Loss: 1.7396\n",
      "Epoch   0 Batch  950/1077 - Train Accuracy: 0.4539, Validation Accuracy: 0.4922, Loss: 1.5808\n",
      "Epoch   0 Batch 1000/1077 - Train Accuracy: 0.5000, Validation Accuracy: 0.4964, Loss: 1.4550\n",
      "Epoch   0 Batch 1050/1077 - Train Accuracy: 0.4145, Validation Accuracy: 0.4876, Loss: 1.5366\n",
      "Epoch   1 Batch   50/1077 - Train Accuracy: 0.4387, Validation Accuracy: 0.4975, Loss: 1.4245\n",
      "Epoch   1 Batch  100/1077 - Train Accuracy: 0.4477, Validation Accuracy: 0.4847, Loss: 1.3318\n",
      "Epoch   1 Batch  150/1077 - Train Accuracy: 0.4914, Validation Accuracy: 0.4925, Loss: 1.2217\n",
      "Epoch   1 Batch  200/1077 - Train Accuracy: 0.4516, Validation Accuracy: 0.4982, Loss: 1.2481\n",
      "Epoch   1 Batch  250/1077 - Train Accuracy: 0.4659, Validation Accuracy: 0.4801, Loss: 1.1253\n",
      "Epoch   1 Batch  300/1077 - Train Accuracy: 0.4305, Validation Accuracy: 0.4844, Loss: 1.2215\n",
      "Epoch   1 Batch  350/1077 - Train Accuracy: 0.4348, Validation Accuracy: 0.4979, Loss: 1.2019\n",
      "Epoch   1 Batch  400/1077 - Train Accuracy: 0.4539, Validation Accuracy: 0.4925, Loss: 1.1376\n",
      "Epoch   1 Batch  450/1077 - Train Accuracy: 0.4340, Validation Accuracy: 0.4858, Loss: 1.0823\n",
      "Epoch   1 Batch  500/1077 - Train Accuracy: 0.5059, Validation Accuracy: 0.5131, Loss: 1.0301\n",
      "Epoch   1 Batch  550/1077 - Train Accuracy: 0.4559, Validation Accuracy: 0.5064, Loss: 1.0486\n",
      "Epoch   1 Batch  600/1077 - Train Accuracy: 0.4821, Validation Accuracy: 0.5039, Loss: 0.9534\n",
      "Epoch   1 Batch  650/1077 - Train Accuracy: 0.4598, Validation Accuracy: 0.5032, Loss: 0.9923\n",
      "Epoch   1 Batch  700/1077 - Train Accuracy: 0.5047, Validation Accuracy: 0.5334, Loss: 0.9311\n",
      "Epoch   1 Batch  750/1077 - Train Accuracy: 0.4965, Validation Accuracy: 0.5419, Loss: 0.9252\n",
      "Epoch   1 Batch  800/1077 - Train Accuracy: 0.4609, Validation Accuracy: 0.4996, Loss: 0.9359\n",
      "Epoch   1 Batch  850/1077 - Train Accuracy: 0.5074, Validation Accuracy: 0.5359, Loss: 0.9313\n",
      "Epoch   1 Batch  900/1077 - Train Accuracy: 0.5000, Validation Accuracy: 0.5458, Loss: 0.9090\n",
      "Epoch   1 Batch  950/1077 - Train Accuracy: 0.5078, Validation Accuracy: 0.5252, Loss: 0.8384\n",
      "Epoch   1 Batch 1000/1077 - Train Accuracy: 0.5751, Validation Accuracy: 0.5384, Loss: 0.8018\n",
      "Epoch   1 Batch 1050/1077 - Train Accuracy: 0.4660, Validation Accuracy: 0.5415, Loss: 0.8704\n",
      "Epoch   2 Batch   50/1077 - Train Accuracy: 0.5109, Validation Accuracy: 0.5579, Loss: 0.8327\n",
      "Epoch   2 Batch  100/1077 - Train Accuracy: 0.5172, Validation Accuracy: 0.5579, Loss: 0.8023\n",
      "Epoch   2 Batch  150/1077 - Train Accuracy: 0.5725, Validation Accuracy: 0.5483, Loss: 0.7488\n",
      "Epoch   2 Batch  200/1077 - Train Accuracy: 0.5031, Validation Accuracy: 0.5632, Loss: 0.7960\n",
      "Epoch   2 Batch  250/1077 - Train Accuracy: 0.5565, Validation Accuracy: 0.5707, Loss: 0.7121\n",
      "Epoch   2 Batch  300/1077 - Train Accuracy: 0.5111, Validation Accuracy: 0.5902, Loss: 0.7736\n",
      "Epoch   2 Batch  350/1077 - Train Accuracy: 0.5309, Validation Accuracy: 0.5739, Loss: 0.7781\n",
      "Epoch   2 Batch  400/1077 - Train Accuracy: 0.5625, Validation Accuracy: 0.5998, Loss: 0.7393\n",
      "Epoch   2 Batch  450/1077 - Train Accuracy: 0.5246, Validation Accuracy: 0.5863, Loss: 0.7060\n",
      "Epoch   2 Batch  500/1077 - Train Accuracy: 0.5742, Validation Accuracy: 0.6076, Loss: 0.7050\n",
      "Epoch   2 Batch  550/1077 - Train Accuracy: 0.5383, Validation Accuracy: 0.6080, Loss: 0.7389\n",
      "Epoch   2 Batch  600/1077 - Train Accuracy: 0.5997, Validation Accuracy: 0.6069, Loss: 0.6577\n",
      "Epoch   2 Batch  650/1077 - Train Accuracy: 0.5387, Validation Accuracy: 0.6161, Loss: 0.6991\n",
      "Epoch   2 Batch  700/1077 - Train Accuracy: 0.5559, Validation Accuracy: 0.6072, Loss: 0.6604\n",
      "Epoch   2 Batch  750/1077 - Train Accuracy: 0.5730, Validation Accuracy: 0.6094, Loss: 0.6856\n",
      "Epoch   2 Batch  800/1077 - Train Accuracy: 0.5687, Validation Accuracy: 0.6030, Loss: 0.6623\n",
      "Epoch   2 Batch  850/1077 - Train Accuracy: 0.5856, Validation Accuracy: 0.6161, Loss: 0.6836\n",
      "Epoch   2 Batch  900/1077 - Train Accuracy: 0.5789, Validation Accuracy: 0.6090, Loss: 0.6624\n",
      "Epoch   2 Batch  950/1077 - Train Accuracy: 0.5651, Validation Accuracy: 0.6094, Loss: 0.6193\n",
      "Epoch   2 Batch 1000/1077 - Train Accuracy: 0.6440, Validation Accuracy: 0.6246, Loss: 0.5817\n",
      "Epoch   2 Batch 1050/1077 - Train Accuracy: 0.5406, Validation Accuracy: 0.6250, Loss: 0.6457\n",
      "Epoch   3 Batch   50/1077 - Train Accuracy: 0.5668, Validation Accuracy: 0.6239, Loss: 0.6132\n",
      "Epoch   3 Batch  100/1077 - Train Accuracy: 0.5922, Validation Accuracy: 0.6207, Loss: 0.5950\n",
      "Epoch   3 Batch  150/1077 - Train Accuracy: 0.6336, Validation Accuracy: 0.6257, Loss: 0.5595\n",
      "Epoch   3 Batch  200/1077 - Train Accuracy: 0.5887, Validation Accuracy: 0.6435, Loss: 0.5974\n",
      "Epoch   3 Batch  250/1077 - Train Accuracy: 0.5955, Validation Accuracy: 0.6367, Loss: 0.5327\n",
      "Epoch   3 Batch  300/1077 - Train Accuracy: 0.6090, Validation Accuracy: 0.6335, Loss: 0.5832\n",
      "Epoch   3 Batch  350/1077 - Train Accuracy: 0.5691, Validation Accuracy: 0.6396, Loss: 0.5910\n",
      "Epoch   3 Batch  400/1077 - Train Accuracy: 0.6055, Validation Accuracy: 0.6396, Loss: 0.5701\n",
      "Epoch   3 Batch  450/1077 - Train Accuracy: 0.5902, Validation Accuracy: 0.6396, Loss: 0.5252\n",
      "Epoch   3 Batch  500/1077 - Train Accuracy: 0.6141, Validation Accuracy: 0.6499, Loss: 0.5328\n",
      "Epoch   3 Batch  550/1077 - Train Accuracy: 0.6066, Validation Accuracy: 0.6562, Loss: 0.5657\n",
      "Epoch   3 Batch  600/1077 - Train Accuracy: 0.6291, Validation Accuracy: 0.6534, Loss: 0.5000\n",
      "Epoch   3 Batch  650/1077 - Train Accuracy: 0.6020, Validation Accuracy: 0.6602, Loss: 0.5254\n",
      "Epoch   3 Batch  700/1077 - Train Accuracy: 0.5984, Validation Accuracy: 0.6573, Loss: 0.4937\n",
      "Epoch   3 Batch  750/1077 - Train Accuracy: 0.6383, Validation Accuracy: 0.6623, Loss: 0.5083\n",
      "Epoch   3 Batch  800/1077 - Train Accuracy: 0.5984, Validation Accuracy: 0.6538, Loss: 0.4987\n",
      "Epoch   3 Batch  850/1077 - Train Accuracy: 0.6205, Validation Accuracy: 0.6591, Loss: 0.5150\n",
      "Epoch   3 Batch  900/1077 - Train Accuracy: 0.6621, Validation Accuracy: 0.6594, Loss: 0.5006\n",
      "Epoch   3 Batch  950/1077 - Train Accuracy: 0.6265, Validation Accuracy: 0.6573, Loss: 0.4574\n",
      "Epoch   3 Batch 1000/1077 - Train Accuracy: 0.6953, Validation Accuracy: 0.6609, Loss: 0.4328\n",
      "Epoch   3 Batch 1050/1077 - Train Accuracy: 0.6027, Validation Accuracy: 0.6360, Loss: 0.4827\n",
      "Epoch   4 Batch   50/1077 - Train Accuracy: 0.5953, Validation Accuracy: 0.6708, Loss: 0.4611\n",
      "Epoch   4 Batch  100/1077 - Train Accuracy: 0.6262, Validation Accuracy: 0.6715, Loss: 0.4512\n",
      "Epoch   4 Batch  150/1077 - Train Accuracy: 0.6823, Validation Accuracy: 0.6602, Loss: 0.4275\n",
      "Epoch   4 Batch  200/1077 - Train Accuracy: 0.6117, Validation Accuracy: 0.6602, Loss: 0.4534\n",
      "Epoch   4 Batch  250/1077 - Train Accuracy: 0.6513, Validation Accuracy: 0.6761, Loss: 0.4021\n",
      "Epoch   4 Batch  300/1077 - Train Accuracy: 0.6764, Validation Accuracy: 0.6577, Loss: 0.4366\n",
      "Epoch   4 Batch  350/1077 - Train Accuracy: 0.6430, Validation Accuracy: 0.6637, Loss: 0.4468\n",
      "Epoch   4 Batch  400/1077 - Train Accuracy: 0.6340, Validation Accuracy: 0.6719, Loss: 0.4464\n",
      "Epoch   4 Batch  450/1077 - Train Accuracy: 0.6602, Validation Accuracy: 0.6452, Loss: 0.4008\n",
      "Epoch   4 Batch  500/1077 - Train Accuracy: 0.6801, Validation Accuracy: 0.6634, Loss: 0.4028\n",
      "Epoch   4 Batch  550/1077 - Train Accuracy: 0.6500, Validation Accuracy: 0.6602, Loss: 0.4341\n",
      "Epoch   4 Batch  600/1077 - Train Accuracy: 0.6975, Validation Accuracy: 0.6658, Loss: 0.3948\n",
      "Epoch   4 Batch  650/1077 - Train Accuracy: 0.6766, Validation Accuracy: 0.6921, Loss: 0.4059\n",
      "Epoch   4 Batch  700/1077 - Train Accuracy: 0.6207, Validation Accuracy: 0.6733, Loss: 0.3851\n",
      "Epoch   4 Batch  750/1077 - Train Accuracy: 0.6832, Validation Accuracy: 0.6584, Loss: 0.3982\n",
      "Epoch   4 Batch  800/1077 - Train Accuracy: 0.6895, Validation Accuracy: 0.6740, Loss: 0.3900\n",
      "Epoch   4 Batch  850/1077 - Train Accuracy: 0.6592, Validation Accuracy: 0.6857, Loss: 0.4181\n",
      "Epoch   4 Batch  900/1077 - Train Accuracy: 0.6980, Validation Accuracy: 0.6811, Loss: 0.4002\n",
      "Epoch   4 Batch  950/1077 - Train Accuracy: 0.6685, Validation Accuracy: 0.6690, Loss: 0.3653\n",
      "Epoch   4 Batch 1000/1077 - Train Accuracy: 0.7485, Validation Accuracy: 0.7003, Loss: 0.3431\n",
      "Epoch   4 Batch 1050/1077 - Train Accuracy: 0.6473, Validation Accuracy: 0.6719, Loss: 0.3804\n",
      "Epoch   5 Batch   50/1077 - Train Accuracy: 0.6809, Validation Accuracy: 0.6864, Loss: 0.3681\n",
      "Epoch   5 Batch  100/1077 - Train Accuracy: 0.6918, Validation Accuracy: 0.6939, Loss: 0.3649\n",
      "Epoch   5 Batch  150/1077 - Train Accuracy: 0.7202, Validation Accuracy: 0.6744, Loss: 0.3460\n",
      "Epoch   5 Batch  200/1077 - Train Accuracy: 0.6867, Validation Accuracy: 0.6868, Loss: 0.3656\n",
      "Epoch   5 Batch  250/1077 - Train Accuracy: 0.7191, Validation Accuracy: 0.6864, Loss: 0.3279\n",
      "Epoch   5 Batch  300/1077 - Train Accuracy: 0.7294, Validation Accuracy: 0.6811, Loss: 0.3502\n",
      "Epoch   5 Batch  350/1077 - Train Accuracy: 0.6902, Validation Accuracy: 0.6960, Loss: 0.3545\n",
      "Epoch   5 Batch  400/1077 - Train Accuracy: 0.7367, Validation Accuracy: 0.6854, Loss: 0.3647\n",
      "Epoch   5 Batch  450/1077 - Train Accuracy: 0.7172, Validation Accuracy: 0.6896, Loss: 0.3303\n",
      "Epoch   5 Batch  500/1077 - Train Accuracy: 0.7289, Validation Accuracy: 0.6914, Loss: 0.3242\n",
      "Epoch   5 Batch  550/1077 - Train Accuracy: 0.6867, Validation Accuracy: 0.6946, Loss: 0.3513\n",
      "Epoch   5 Batch  600/1077 - Train Accuracy: 0.7716, Validation Accuracy: 0.7074, Loss: 0.3145\n",
      "Epoch   5 Batch  650/1077 - Train Accuracy: 0.7047, Validation Accuracy: 0.7113, Loss: 0.3281\n",
      "Epoch   5 Batch  700/1077 - Train Accuracy: 0.6965, Validation Accuracy: 0.6850, Loss: 0.3063\n",
      "Epoch   5 Batch  750/1077 - Train Accuracy: 0.7188, Validation Accuracy: 0.7276, Loss: 0.3241\n",
      "Epoch   5 Batch  800/1077 - Train Accuracy: 0.7363, Validation Accuracy: 0.7188, Loss: 0.3134\n",
      "Epoch   5 Batch  850/1077 - Train Accuracy: 0.7143, Validation Accuracy: 0.7259, Loss: 0.3386\n",
      "Epoch   5 Batch  900/1077 - Train Accuracy: 0.7434, Validation Accuracy: 0.7223, Loss: 0.3218\n",
      "Epoch   5 Batch  950/1077 - Train Accuracy: 0.7240, Validation Accuracy: 0.7049, Loss: 0.2925\n",
      "Epoch   5 Batch 1000/1077 - Train Accuracy: 0.8110, Validation Accuracy: 0.7539, Loss: 0.2742\n",
      "Epoch   5 Batch 1050/1077 - Train Accuracy: 0.7438, Validation Accuracy: 0.7188, Loss: 0.3007\n",
      "Epoch   6 Batch   50/1077 - Train Accuracy: 0.7633, Validation Accuracy: 0.7528, Loss: 0.2949\n",
      "Epoch   6 Batch  100/1077 - Train Accuracy: 0.7566, Validation Accuracy: 0.7638, Loss: 0.2875\n",
      "Epoch   6 Batch  150/1077 - Train Accuracy: 0.7995, Validation Accuracy: 0.7415, Loss: 0.2745\n",
      "Epoch   6 Batch  200/1077 - Train Accuracy: 0.7617, Validation Accuracy: 0.7706, Loss: 0.2914\n",
      "Epoch   6 Batch  250/1077 - Train Accuracy: 0.7557, Validation Accuracy: 0.7635, Loss: 0.2667\n",
      "Epoch   6 Batch  300/1077 - Train Accuracy: 0.7854, Validation Accuracy: 0.7614, Loss: 0.2751\n",
      "Epoch   6 Batch  350/1077 - Train Accuracy: 0.7781, Validation Accuracy: 0.7827, Loss: 0.2816\n",
      "Epoch   6 Batch  400/1077 - Train Accuracy: 0.7762, Validation Accuracy: 0.7741, Loss: 0.2911\n",
      "Epoch   6 Batch  450/1077 - Train Accuracy: 0.7648, Validation Accuracy: 0.7667, Loss: 0.2635\n",
      "Epoch   6 Batch  500/1077 - Train Accuracy: 0.7953, Validation Accuracy: 0.7788, Loss: 0.2502\n",
      "Epoch   6 Batch  550/1077 - Train Accuracy: 0.7488, Validation Accuracy: 0.7848, Loss: 0.2807\n",
      "Epoch   6 Batch  600/1077 - Train Accuracy: 0.7984, Validation Accuracy: 0.7965, Loss: 0.2491\n",
      "Epoch   6 Batch  650/1077 - Train Accuracy: 0.7910, Validation Accuracy: 0.7816, Loss: 0.2619\n",
      "Epoch   6 Batch  700/1077 - Train Accuracy: 0.7770, Validation Accuracy: 0.8004, Loss: 0.2365\n",
      "Epoch   6 Batch  750/1077 - Train Accuracy: 0.7746, Validation Accuracy: 0.7908, Loss: 0.2608\n",
      "Epoch   6 Batch  800/1077 - Train Accuracy: 0.7781, Validation Accuracy: 0.7976, Loss: 0.2477\n",
      "Epoch   6 Batch  850/1077 - Train Accuracy: 0.7801, Validation Accuracy: 0.8082, Loss: 0.2716\n",
      "Epoch   6 Batch  900/1077 - Train Accuracy: 0.8187, Validation Accuracy: 0.7958, Loss: 0.2593\n",
      "Epoch   6 Batch  950/1077 - Train Accuracy: 0.7839, Validation Accuracy: 0.7898, Loss: 0.2319\n",
      "Epoch   6 Batch 1000/1077 - Train Accuracy: 0.8266, Validation Accuracy: 0.7901, Loss: 0.2186\n",
      "Epoch   6 Batch 1050/1077 - Train Accuracy: 0.8125, Validation Accuracy: 0.7944, Loss: 0.2351\n",
      "Epoch   7 Batch   50/1077 - Train Accuracy: 0.7902, Validation Accuracy: 0.8008, Loss: 0.2342\n",
      "Epoch   7 Batch  100/1077 - Train Accuracy: 0.8078, Validation Accuracy: 0.8132, Loss: 0.2286\n",
      "Epoch   7 Batch  150/1077 - Train Accuracy: 0.8337, Validation Accuracy: 0.8072, Loss: 0.2146\n",
      "Epoch   7 Batch  200/1077 - Train Accuracy: 0.7711, Validation Accuracy: 0.7908, Loss: 0.2347\n",
      "Epoch   7 Batch  250/1077 - Train Accuracy: 0.7844, Validation Accuracy: 0.8008, Loss: 0.2100\n",
      "Epoch   7 Batch  300/1077 - Train Accuracy: 0.8318, Validation Accuracy: 0.7987, Loss: 0.2155\n",
      "Epoch   7 Batch  350/1077 - Train Accuracy: 0.7980, Validation Accuracy: 0.8097, Loss: 0.2287\n",
      "Epoch   7 Batch  400/1077 - Train Accuracy: 0.7898, Validation Accuracy: 0.8143, Loss: 0.2356\n",
      "Epoch   7 Batch  450/1077 - Train Accuracy: 0.8031, Validation Accuracy: 0.8104, Loss: 0.2090\n",
      "Epoch   7 Batch  500/1077 - Train Accuracy: 0.8258, Validation Accuracy: 0.8093, Loss: 0.1928\n",
      "Epoch   7 Batch  550/1077 - Train Accuracy: 0.7801, Validation Accuracy: 0.8111, Loss: 0.2243\n",
      "Epoch   7 Batch  600/1077 - Train Accuracy: 0.8077, Validation Accuracy: 0.8001, Loss: 0.2022\n",
      "Epoch   7 Batch  650/1077 - Train Accuracy: 0.8273, Validation Accuracy: 0.8196, Loss: 0.2052\n",
      "Epoch   7 Batch  700/1077 - Train Accuracy: 0.8477, Validation Accuracy: 0.8136, Loss: 0.1855\n",
      "Epoch   7 Batch  750/1077 - Train Accuracy: 0.8156, Validation Accuracy: 0.8047, Loss: 0.1999\n",
      "Epoch   7 Batch  800/1077 - Train Accuracy: 0.8488, Validation Accuracy: 0.8271, Loss: 0.1929\n",
      "Epoch   7 Batch  850/1077 - Train Accuracy: 0.7876, Validation Accuracy: 0.8256, Loss: 0.2169\n",
      "Epoch   7 Batch  900/1077 - Train Accuracy: 0.8430, Validation Accuracy: 0.8079, Loss: 0.2111\n",
      "Epoch   7 Batch  950/1077 - Train Accuracy: 0.8363, Validation Accuracy: 0.8161, Loss: 0.1819\n",
      "Epoch   7 Batch 1000/1077 - Train Accuracy: 0.8702, Validation Accuracy: 0.8192, Loss: 0.1743\n",
      "Epoch   7 Batch 1050/1077 - Train Accuracy: 0.8383, Validation Accuracy: 0.8224, Loss: 0.1853\n",
      "Epoch   8 Batch   50/1077 - Train Accuracy: 0.8211, Validation Accuracy: 0.8310, Loss: 0.1815\n",
      "Epoch   8 Batch  100/1077 - Train Accuracy: 0.8445, Validation Accuracy: 0.8331, Loss: 0.1761\n",
      "Epoch   8 Batch  150/1077 - Train Accuracy: 0.8493, Validation Accuracy: 0.8263, Loss: 0.1692\n",
      "Epoch   8 Batch  200/1077 - Train Accuracy: 0.8137, Validation Accuracy: 0.8129, Loss: 0.1879\n",
      "Epoch   8 Batch  250/1077 - Train Accuracy: 0.8221, Validation Accuracy: 0.8278, Loss: 0.1638\n",
      "Epoch   8 Batch  300/1077 - Train Accuracy: 0.8553, Validation Accuracy: 0.8288, Loss: 0.1652\n",
      "Epoch   8 Batch  350/1077 - Train Accuracy: 0.8199, Validation Accuracy: 0.8356, Loss: 0.1841\n",
      "Epoch   8 Batch  400/1077 - Train Accuracy: 0.8453, Validation Accuracy: 0.8285, Loss: 0.1848\n",
      "Epoch   8 Batch  450/1077 - Train Accuracy: 0.8211, Validation Accuracy: 0.8217, Loss: 0.1630\n",
      "Epoch   8 Batch  500/1077 - Train Accuracy: 0.8688, Validation Accuracy: 0.8384, Loss: 0.1495\n",
      "Epoch   8 Batch  550/1077 - Train Accuracy: 0.8277, Validation Accuracy: 0.8381, Loss: 0.1754\n",
      "Epoch   8 Batch  600/1077 - Train Accuracy: 0.8527, Validation Accuracy: 0.8274, Loss: 0.1571\n",
      "Epoch   8 Batch  650/1077 - Train Accuracy: 0.8645, Validation Accuracy: 0.8232, Loss: 0.1579\n",
      "Epoch   8 Batch  700/1077 - Train Accuracy: 0.8637, Validation Accuracy: 0.8303, Loss: 0.1437\n",
      "Epoch   8 Batch  750/1077 - Train Accuracy: 0.8746, Validation Accuracy: 0.8303, Loss: 0.1504\n",
      "Epoch   8 Batch  800/1077 - Train Accuracy: 0.8648, Validation Accuracy: 0.8278, Loss: 0.1466\n",
      "Epoch   8 Batch  850/1077 - Train Accuracy: 0.8285, Validation Accuracy: 0.8448, Loss: 0.1734\n",
      "Epoch   8 Batch  900/1077 - Train Accuracy: 0.8586, Validation Accuracy: 0.8121, Loss: 0.1676\n",
      "Epoch   8 Batch  950/1077 - Train Accuracy: 0.8542, Validation Accuracy: 0.8313, Loss: 0.1408\n",
      "Epoch   8 Batch 1000/1077 - Train Accuracy: 0.8895, Validation Accuracy: 0.8430, Loss: 0.1382\n",
      "Epoch   8 Batch 1050/1077 - Train Accuracy: 0.8391, Validation Accuracy: 0.8253, Loss: 0.1441\n",
      "Epoch   9 Batch   50/1077 - Train Accuracy: 0.8508, Validation Accuracy: 0.8281, Loss: 0.1392\n",
      "Epoch   9 Batch  100/1077 - Train Accuracy: 0.8582, Validation Accuracy: 0.8445, Loss: 0.1331\n",
      "Epoch   9 Batch  150/1077 - Train Accuracy: 0.8698, Validation Accuracy: 0.8377, Loss: 0.1343\n",
      "Epoch   9 Batch  200/1077 - Train Accuracy: 0.8473, Validation Accuracy: 0.8391, Loss: 0.1513\n",
      "Epoch   9 Batch  250/1077 - Train Accuracy: 0.8480, Validation Accuracy: 0.8366, Loss: 0.1248\n",
      "Epoch   9 Batch  300/1077 - Train Accuracy: 0.8680, Validation Accuracy: 0.8320, Loss: 0.1245\n",
      "Epoch   9 Batch  350/1077 - Train Accuracy: 0.8414, Validation Accuracy: 0.8352, Loss: 0.1455\n",
      "Epoch   9 Batch  400/1077 - Train Accuracy: 0.8684, Validation Accuracy: 0.8377, Loss: 0.1482\n",
      "Epoch   9 Batch  450/1077 - Train Accuracy: 0.8508, Validation Accuracy: 0.8320, Loss: 0.1280\n",
      "Epoch   9 Batch  500/1077 - Train Accuracy: 0.8641, Validation Accuracy: 0.8395, Loss: 0.1180\n",
      "Epoch   9 Batch  550/1077 - Train Accuracy: 0.8465, Validation Accuracy: 0.8462, Loss: 0.1364\n",
      "Epoch   9 Batch  600/1077 - Train Accuracy: 0.8832, Validation Accuracy: 0.8288, Loss: 0.1227\n",
      "Epoch   9 Batch  650/1077 - Train Accuracy: 0.8891, Validation Accuracy: 0.8434, Loss: 0.1241\n",
      "Epoch   9 Batch  700/1077 - Train Accuracy: 0.8645, Validation Accuracy: 0.8366, Loss: 0.1091\n",
      "Epoch   9 Batch  750/1077 - Train Accuracy: 0.8852, Validation Accuracy: 0.8452, Loss: 0.1177\n",
      "Epoch   9 Batch  800/1077 - Train Accuracy: 0.8859, Validation Accuracy: 0.8615, Loss: 0.1126\n",
      "Epoch   9 Batch  850/1077 - Train Accuracy: 0.8590, Validation Accuracy: 0.8509, Loss: 0.1418\n",
      "Epoch   9 Batch  900/1077 - Train Accuracy: 0.8836, Validation Accuracy: 0.8540, Loss: 0.1374\n",
      "Epoch   9 Batch  950/1077 - Train Accuracy: 0.8664, Validation Accuracy: 0.8352, Loss: 0.1130\n",
      "Epoch   9 Batch 1000/1077 - Train Accuracy: 0.9014, Validation Accuracy: 0.8654, Loss: 0.1134\n",
      "Epoch   9 Batch 1050/1077 - Train Accuracy: 0.8605, Validation Accuracy: 0.8509, Loss: 0.1128\n",
      "Epoch  10 Batch   50/1077 - Train Accuracy: 0.8707, Validation Accuracy: 0.8320, Loss: 0.1081\n",
      "Epoch  10 Batch  100/1077 - Train Accuracy: 0.8719, Validation Accuracy: 0.8590, Loss: 0.1052\n",
      "Epoch  10 Batch  150/1077 - Train Accuracy: 0.8847, Validation Accuracy: 0.8555, Loss: 0.1117\n",
      "Epoch  10 Batch  200/1077 - Train Accuracy: 0.8676, Validation Accuracy: 0.8597, Loss: 0.1258\n",
      "Epoch  10 Batch  250/1077 - Train Accuracy: 0.8711, Validation Accuracy: 0.8462, Loss: 0.0986\n",
      "Epoch  10 Batch  300/1077 - Train Accuracy: 0.8877, Validation Accuracy: 0.8544, Loss: 0.0980\n",
      "Epoch  10 Batch  350/1077 - Train Accuracy: 0.8703, Validation Accuracy: 0.8555, Loss: 0.1180\n",
      "Epoch  10 Batch  400/1077 - Train Accuracy: 0.8898, Validation Accuracy: 0.8647, Loss: 0.1205\n",
      "Epoch  10 Batch  450/1077 - Train Accuracy: 0.8527, Validation Accuracy: 0.8391, Loss: 0.1062\n",
      "Epoch  10 Batch  500/1077 - Train Accuracy: 0.8695, Validation Accuracy: 0.8633, Loss: 0.0967\n",
      "Epoch  10 Batch  550/1077 - Train Accuracy: 0.8328, Validation Accuracy: 0.8714, Loss: 0.1094\n",
      "Epoch  10 Batch  600/1077 - Train Accuracy: 0.8862, Validation Accuracy: 0.8583, Loss: 0.1009\n",
      "Epoch  10 Batch  650/1077 - Train Accuracy: 0.8945, Validation Accuracy: 0.8700, Loss: 0.0996\n",
      "Epoch  10 Batch  700/1077 - Train Accuracy: 0.8926, Validation Accuracy: 0.8615, Loss: 0.0855\n",
      "Epoch  10 Batch  750/1077 - Train Accuracy: 0.8938, Validation Accuracy: 0.8619, Loss: 0.0969\n",
      "Epoch  10 Batch  800/1077 - Train Accuracy: 0.8934, Validation Accuracy: 0.8746, Loss: 0.0931\n",
      "Epoch  10 Batch  850/1077 - Train Accuracy: 0.8676, Validation Accuracy: 0.8636, Loss: 0.1164\n",
      "Epoch  10 Batch  900/1077 - Train Accuracy: 0.9055, Validation Accuracy: 0.8683, Loss: 0.1131\n",
      "Epoch  10 Batch  950/1077 - Train Accuracy: 0.8817, Validation Accuracy: 0.8427, Loss: 0.0931\n",
      "Epoch  10 Batch 1000/1077 - Train Accuracy: 0.9051, Validation Accuracy: 0.8704, Loss: 0.0942\n",
      "Epoch  10 Batch 1050/1077 - Train Accuracy: 0.8691, Validation Accuracy: 0.8739, Loss: 0.0908\n",
      "Epoch  11 Batch   50/1077 - Train Accuracy: 0.8750, Validation Accuracy: 0.8594, Loss: 0.0873\n",
      "Epoch  11 Batch  100/1077 - Train Accuracy: 0.8805, Validation Accuracy: 0.8640, Loss: 0.0877\n",
      "Epoch  11 Batch  150/1077 - Train Accuracy: 0.9033, Validation Accuracy: 0.8686, Loss: 0.0967\n",
      "Epoch  11 Batch  200/1077 - Train Accuracy: 0.8699, Validation Accuracy: 0.8612, Loss: 0.1016\n",
      "Epoch  11 Batch  250/1077 - Train Accuracy: 0.8746, Validation Accuracy: 0.8626, Loss: 0.0807\n",
      "Epoch  11 Batch  300/1077 - Train Accuracy: 0.9034, Validation Accuracy: 0.8583, Loss: 0.0798\n",
      "Epoch  11 Batch  350/1077 - Train Accuracy: 0.8785, Validation Accuracy: 0.8718, Loss: 0.0959\n",
      "Epoch  11 Batch  400/1077 - Train Accuracy: 0.8922, Validation Accuracy: 0.8651, Loss: 0.1017\n",
      "Epoch  11 Batch  450/1077 - Train Accuracy: 0.8746, Validation Accuracy: 0.8505, Loss: 0.0877\n",
      "Epoch  11 Batch  500/1077 - Train Accuracy: 0.8879, Validation Accuracy: 0.8793, Loss: 0.0780\n",
      "Epoch  11 Batch  550/1077 - Train Accuracy: 0.8480, Validation Accuracy: 0.8846, Loss: 0.0905\n",
      "Epoch  11 Batch  600/1077 - Train Accuracy: 0.9077, Validation Accuracy: 0.8757, Loss: 0.0860\n",
      "Epoch  11 Batch  650/1077 - Train Accuracy: 0.8977, Validation Accuracy: 0.8835, Loss: 0.0821\n",
      "Epoch  11 Batch  700/1077 - Train Accuracy: 0.8859, Validation Accuracy: 0.8746, Loss: 0.0711\n",
      "Epoch  11 Batch  750/1077 - Train Accuracy: 0.8801, Validation Accuracy: 0.8640, Loss: 0.0802\n",
      "Epoch  11 Batch  800/1077 - Train Accuracy: 0.9094, Validation Accuracy: 0.8857, Loss: 0.0758\n",
      "Epoch  11 Batch  850/1077 - Train Accuracy: 0.8966, Validation Accuracy: 0.8736, Loss: 0.0982\n",
      "Epoch  11 Batch  900/1077 - Train Accuracy: 0.8996, Validation Accuracy: 0.8796, Loss: 0.0948\n",
      "Epoch  11 Batch  950/1077 - Train Accuracy: 0.8947, Validation Accuracy: 0.8711, Loss: 0.0764\n",
      "Epoch  11 Batch 1000/1077 - Train Accuracy: 0.9048, Validation Accuracy: 0.8729, Loss: 0.0814\n",
      "Epoch  11 Batch 1050/1077 - Train Accuracy: 0.8781, Validation Accuracy: 0.8846, Loss: 0.0717\n",
      "Epoch  12 Batch   50/1077 - Train Accuracy: 0.8965, Validation Accuracy: 0.8672, Loss: 0.0739\n",
      "Epoch  12 Batch  100/1077 - Train Accuracy: 0.8984, Validation Accuracy: 0.8778, Loss: 0.0753\n",
      "Epoch  12 Batch  150/1077 - Train Accuracy: 0.9278, Validation Accuracy: 0.8828, Loss: 0.0747\n",
      "Epoch  12 Batch  200/1077 - Train Accuracy: 0.8898, Validation Accuracy: 0.8700, Loss: 0.0818\n",
      "Epoch  12 Batch  250/1077 - Train Accuracy: 0.9080, Validation Accuracy: 0.8754, Loss: 0.0671\n",
      "Epoch  12 Batch  300/1077 - Train Accuracy: 0.9137, Validation Accuracy: 0.8786, Loss: 0.0670\n",
      "Epoch  12 Batch  350/1077 - Train Accuracy: 0.8980, Validation Accuracy: 0.8814, Loss: 0.0784\n",
      "Epoch  12 Batch  400/1077 - Train Accuracy: 0.8961, Validation Accuracy: 0.8892, Loss: 0.0872\n",
      "Epoch  12 Batch  450/1077 - Train Accuracy: 0.8965, Validation Accuracy: 0.8757, Loss: 0.0745\n",
      "Epoch  12 Batch  500/1077 - Train Accuracy: 0.9023, Validation Accuracy: 0.8899, Loss: 0.0667\n",
      "Epoch  12 Batch  550/1077 - Train Accuracy: 0.8645, Validation Accuracy: 0.8896, Loss: 0.0744\n",
      "Epoch  12 Batch  600/1077 - Train Accuracy: 0.9044, Validation Accuracy: 0.8910, Loss: 0.0703\n",
      "Epoch  12 Batch  650/1077 - Train Accuracy: 0.9074, Validation Accuracy: 0.8924, Loss: 0.0675\n",
      "Epoch  12 Batch  700/1077 - Train Accuracy: 0.9070, Validation Accuracy: 0.8885, Loss: 0.0613\n",
      "Epoch  12 Batch  750/1077 - Train Accuracy: 0.8996, Validation Accuracy: 0.8739, Loss: 0.0699\n",
      "Epoch  12 Batch  800/1077 - Train Accuracy: 0.9090, Validation Accuracy: 0.8821, Loss: 0.0669\n",
      "Epoch  12 Batch  850/1077 - Train Accuracy: 0.8940, Validation Accuracy: 0.8931, Loss: 0.0854\n",
      "Epoch  12 Batch  900/1077 - Train Accuracy: 0.9016, Validation Accuracy: 0.8839, Loss: 0.0759\n",
      "Epoch  12 Batch  950/1077 - Train Accuracy: 0.8984, Validation Accuracy: 0.8896, Loss: 0.0676\n",
      "Epoch  12 Batch 1000/1077 - Train Accuracy: 0.9036, Validation Accuracy: 0.8899, Loss: 0.0737\n",
      "Epoch  12 Batch 1050/1077 - Train Accuracy: 0.9031, Validation Accuracy: 0.8935, Loss: 0.0594\n",
      "Epoch  13 Batch   50/1077 - Train Accuracy: 0.9098, Validation Accuracy: 0.8857, Loss: 0.0636\n",
      "Epoch  13 Batch  100/1077 - Train Accuracy: 0.9176, Validation Accuracy: 0.8952, Loss: 0.0647\n",
      "Epoch  13 Batch  150/1077 - Train Accuracy: 0.9308, Validation Accuracy: 0.8931, Loss: 0.0654\n",
      "Epoch  13 Batch  200/1077 - Train Accuracy: 0.8988, Validation Accuracy: 0.8771, Loss: 0.0705\n",
      "Epoch  13 Batch  250/1077 - Train Accuracy: 0.9251, Validation Accuracy: 0.8888, Loss: 0.0571\n",
      "Epoch  13 Batch  300/1077 - Train Accuracy: 0.9375, Validation Accuracy: 0.8832, Loss: 0.0558\n",
      "Epoch  13 Batch  350/1077 - Train Accuracy: 0.9070, Validation Accuracy: 0.8849, Loss: 0.0654\n",
      "Epoch  13 Batch  400/1077 - Train Accuracy: 0.9020, Validation Accuracy: 0.8935, Loss: 0.0758\n",
      "Epoch  13 Batch  450/1077 - Train Accuracy: 0.9145, Validation Accuracy: 0.8871, Loss: 0.0651\n",
      "Epoch  13 Batch  500/1077 - Train Accuracy: 0.9203, Validation Accuracy: 0.8984, Loss: 0.0564\n",
      "Epoch  13 Batch  550/1077 - Train Accuracy: 0.8680, Validation Accuracy: 0.8956, Loss: 0.0649\n",
      "Epoch  13 Batch  600/1077 - Train Accuracy: 0.9156, Validation Accuracy: 0.8867, Loss: 0.0613\n",
      "Epoch  13 Batch  650/1077 - Train Accuracy: 0.9223, Validation Accuracy: 0.9102, Loss: 0.0587\n",
      "Epoch  13 Batch  700/1077 - Train Accuracy: 0.9043, Validation Accuracy: 0.9013, Loss: 0.0538\n",
      "Epoch  13 Batch  750/1077 - Train Accuracy: 0.9016, Validation Accuracy: 0.8981, Loss: 0.0631\n",
      "Epoch  13 Batch  800/1077 - Train Accuracy: 0.9156, Validation Accuracy: 0.8956, Loss: 0.0587\n",
      "Epoch  13 Batch  850/1077 - Train Accuracy: 0.9018, Validation Accuracy: 0.8952, Loss: 0.0767\n",
      "Epoch  13 Batch  900/1077 - Train Accuracy: 0.9242, Validation Accuracy: 0.8825, Loss: 0.0666\n",
      "Epoch  13 Batch  950/1077 - Train Accuracy: 0.9074, Validation Accuracy: 0.8892, Loss: 0.0600\n",
      "Epoch  13 Batch 1000/1077 - Train Accuracy: 0.9103, Validation Accuracy: 0.8952, Loss: 0.0652\n",
      "Epoch  13 Batch 1050/1077 - Train Accuracy: 0.9301, Validation Accuracy: 0.8988, Loss: 0.0507\n",
      "Epoch  14 Batch   50/1077 - Train Accuracy: 0.9238, Validation Accuracy: 0.8860, Loss: 0.0568\n",
      "Epoch  14 Batch  100/1077 - Train Accuracy: 0.9332, Validation Accuracy: 0.8942, Loss: 0.0558\n",
      "Epoch  14 Batch  150/1077 - Train Accuracy: 0.9353, Validation Accuracy: 0.8970, Loss: 0.0563\n",
      "Epoch  14 Batch  200/1077 - Train Accuracy: 0.9012, Validation Accuracy: 0.8963, Loss: 0.0622\n",
      "Epoch  14 Batch  250/1077 - Train Accuracy: 0.9268, Validation Accuracy: 0.9048, Loss: 0.0506\n",
      "Epoch  14 Batch  300/1077 - Train Accuracy: 0.9334, Validation Accuracy: 0.8935, Loss: 0.0506\n",
      "Epoch  14 Batch  350/1077 - Train Accuracy: 0.9184, Validation Accuracy: 0.8881, Loss: 0.0555\n",
      "Epoch  14 Batch  400/1077 - Train Accuracy: 0.8980, Validation Accuracy: 0.8967, Loss: 0.0672\n",
      "Epoch  14 Batch  450/1077 - Train Accuracy: 0.9234, Validation Accuracy: 0.8999, Loss: 0.0588\n",
      "Epoch  14 Batch  500/1077 - Train Accuracy: 0.9285, Validation Accuracy: 0.9087, Loss: 0.0468\n",
      "Epoch  14 Batch  550/1077 - Train Accuracy: 0.8812, Validation Accuracy: 0.8913, Loss: 0.0561\n",
      "Epoch  14 Batch  600/1077 - Train Accuracy: 0.9271, Validation Accuracy: 0.8899, Loss: 0.0550\n",
      "Epoch  14 Batch  650/1077 - Train Accuracy: 0.9242, Validation Accuracy: 0.8977, Loss: 0.0506\n",
      "Epoch  14 Batch  700/1077 - Train Accuracy: 0.9273, Validation Accuracy: 0.8963, Loss: 0.0479\n",
      "Epoch  14 Batch  750/1077 - Train Accuracy: 0.9109, Validation Accuracy: 0.8960, Loss: 0.0586\n",
      "Epoch  14 Batch  800/1077 - Train Accuracy: 0.9246, Validation Accuracy: 0.9073, Loss: 0.0493\n",
      "Epoch  14 Batch  850/1077 - Train Accuracy: 0.9055, Validation Accuracy: 0.9034, Loss: 0.0699\n",
      "Epoch  14 Batch  900/1077 - Train Accuracy: 0.9301, Validation Accuracy: 0.8960, Loss: 0.0556\n",
      "Epoch  14 Batch  950/1077 - Train Accuracy: 0.9193, Validation Accuracy: 0.9045, Loss: 0.0547\n",
      "Epoch  14 Batch 1000/1077 - Train Accuracy: 0.9022, Validation Accuracy: 0.8917, Loss: 0.0588\n",
      "Epoch  14 Batch 1050/1077 - Train Accuracy: 0.9324, Validation Accuracy: 0.8938, Loss: 0.0446\n",
      "Epoch  15 Batch   50/1077 - Train Accuracy: 0.9199, Validation Accuracy: 0.8970, Loss: 0.0505\n",
      "Epoch  15 Batch  100/1077 - Train Accuracy: 0.9418, Validation Accuracy: 0.8999, Loss: 0.0488\n",
      "Epoch  15 Batch  150/1077 - Train Accuracy: 0.9438, Validation Accuracy: 0.9006, Loss: 0.0492\n",
      "Epoch  15 Batch  200/1077 - Train Accuracy: 0.8988, Validation Accuracy: 0.8952, Loss: 0.0553\n",
      "Epoch  15 Batch  250/1077 - Train Accuracy: 0.9450, Validation Accuracy: 0.9038, Loss: 0.0465\n",
      "Epoch  15 Batch  300/1077 - Train Accuracy: 0.9338, Validation Accuracy: 0.8942, Loss: 0.0446\n",
      "Epoch  15 Batch  350/1077 - Train Accuracy: 0.9207, Validation Accuracy: 0.8942, Loss: 0.0488\n",
      "Epoch  15 Batch  400/1077 - Train Accuracy: 0.9133, Validation Accuracy: 0.9041, Loss: 0.0617\n",
      "Epoch  15 Batch  450/1077 - Train Accuracy: 0.9289, Validation Accuracy: 0.9087, Loss: 0.0533\n",
      "Epoch  15 Batch  500/1077 - Train Accuracy: 0.9355, Validation Accuracy: 0.9119, Loss: 0.0418\n",
      "Epoch  15 Batch  550/1077 - Train Accuracy: 0.8930, Validation Accuracy: 0.9041, Loss: 0.0490\n",
      "Epoch  15 Batch  600/1077 - Train Accuracy: 0.9278, Validation Accuracy: 0.8999, Loss: 0.0505\n",
      "Epoch  15 Batch  650/1077 - Train Accuracy: 0.9316, Validation Accuracy: 0.8938, Loss: 0.0452\n",
      "Epoch  15 Batch  700/1077 - Train Accuracy: 0.9301, Validation Accuracy: 0.8995, Loss: 0.0436\n",
      "Epoch  15 Batch  750/1077 - Train Accuracy: 0.9098, Validation Accuracy: 0.9055, Loss: 0.0523\n",
      "Epoch  15 Batch  800/1077 - Train Accuracy: 0.9301, Validation Accuracy: 0.9070, Loss: 0.0460\n",
      "Epoch  15 Batch  850/1077 - Train Accuracy: 0.9014, Validation Accuracy: 0.9094, Loss: 0.0660\n",
      "Epoch  15 Batch  900/1077 - Train Accuracy: 0.9258, Validation Accuracy: 0.8935, Loss: 0.0520\n",
      "Epoch  15 Batch  950/1077 - Train Accuracy: 0.9256, Validation Accuracy: 0.8988, Loss: 0.0490\n",
      "Epoch  15 Batch 1000/1077 - Train Accuracy: 0.8984, Validation Accuracy: 0.8942, Loss: 0.0551\n",
      "Epoch  15 Batch 1050/1077 - Train Accuracy: 0.9422, Validation Accuracy: 0.8892, Loss: 0.0394\n",
      "Epoch  16 Batch   50/1077 - Train Accuracy: 0.9270, Validation Accuracy: 0.9055, Loss: 0.0456\n",
      "Epoch  16 Batch  100/1077 - Train Accuracy: 0.9437, Validation Accuracy: 0.9041, Loss: 0.0446\n",
      "Epoch  16 Batch  150/1077 - Train Accuracy: 0.9405, Validation Accuracy: 0.9034, Loss: 0.0455\n",
      "Epoch  16 Batch  200/1077 - Train Accuracy: 0.9070, Validation Accuracy: 0.9020, Loss: 0.0495\n",
      "Epoch  16 Batch  250/1077 - Train Accuracy: 0.9460, Validation Accuracy: 0.9119, Loss: 0.0433\n",
      "Epoch  16 Batch  300/1077 - Train Accuracy: 0.9465, Validation Accuracy: 0.9045, Loss: 0.0403\n",
      "Epoch  16 Batch  350/1077 - Train Accuracy: 0.9332, Validation Accuracy: 0.9102, Loss: 0.0446\n",
      "Epoch  16 Batch  400/1077 - Train Accuracy: 0.9137, Validation Accuracy: 0.8956, Loss: 0.0580\n",
      "Epoch  16 Batch  450/1077 - Train Accuracy: 0.9324, Validation Accuracy: 0.8999, Loss: 0.0495\n",
      "Epoch  16 Batch  500/1077 - Train Accuracy: 0.9281, Validation Accuracy: 0.9041, Loss: 0.0381\n",
      "Epoch  16 Batch  550/1077 - Train Accuracy: 0.9023, Validation Accuracy: 0.9055, Loss: 0.0449\n",
      "Epoch  16 Batch  600/1077 - Train Accuracy: 0.9349, Validation Accuracy: 0.9084, Loss: 0.0463\n",
      "Epoch  16 Batch  650/1077 - Train Accuracy: 0.9352, Validation Accuracy: 0.8984, Loss: 0.0424\n",
      "Epoch  16 Batch  700/1077 - Train Accuracy: 0.9336, Validation Accuracy: 0.9023, Loss: 0.0402\n",
      "Epoch  16 Batch  750/1077 - Train Accuracy: 0.9172, Validation Accuracy: 0.9109, Loss: 0.0483\n",
      "Epoch  16 Batch  800/1077 - Train Accuracy: 0.9250, Validation Accuracy: 0.9084, Loss: 0.0443\n",
      "Epoch  16 Batch  850/1077 - Train Accuracy: 0.9033, Validation Accuracy: 0.9031, Loss: 0.0612\n",
      "Epoch  16 Batch  900/1077 - Train Accuracy: 0.9445, Validation Accuracy: 0.9094, Loss: 0.0447\n",
      "Epoch  16 Batch  950/1077 - Train Accuracy: 0.9237, Validation Accuracy: 0.9002, Loss: 0.0429\n",
      "Epoch  16 Batch 1000/1077 - Train Accuracy: 0.9036, Validation Accuracy: 0.8903, Loss: 0.0502\n",
      "Epoch  16 Batch 1050/1077 - Train Accuracy: 0.9492, Validation Accuracy: 0.8963, Loss: 0.0353\n",
      "Epoch  17 Batch   50/1077 - Train Accuracy: 0.9414, Validation Accuracy: 0.9151, Loss: 0.0423\n",
      "Epoch  17 Batch  100/1077 - Train Accuracy: 0.9527, Validation Accuracy: 0.9119, Loss: 0.0411\n",
      "Epoch  17 Batch  150/1077 - Train Accuracy: 0.9375, Validation Accuracy: 0.9006, Loss: 0.0424\n",
      "Epoch  17 Batch  200/1077 - Train Accuracy: 0.9035, Validation Accuracy: 0.9031, Loss: 0.0453\n",
      "Epoch  17 Batch  250/1077 - Train Accuracy: 0.9442, Validation Accuracy: 0.9055, Loss: 0.0399\n",
      "Epoch  17 Batch  300/1077 - Train Accuracy: 0.9474, Validation Accuracy: 0.9123, Loss: 0.0354\n",
      "Epoch  17 Batch  350/1077 - Train Accuracy: 0.9383, Validation Accuracy: 0.9070, Loss: 0.0419\n",
      "Epoch  17 Batch  400/1077 - Train Accuracy: 0.9266, Validation Accuracy: 0.8984, Loss: 0.0553\n",
      "Epoch  17 Batch  450/1077 - Train Accuracy: 0.9422, Validation Accuracy: 0.8984, Loss: 0.0477\n",
      "Epoch  17 Batch  500/1077 - Train Accuracy: 0.9254, Validation Accuracy: 0.9073, Loss: 0.0352\n",
      "Epoch  17 Batch  550/1077 - Train Accuracy: 0.8996, Validation Accuracy: 0.9109, Loss: 0.0401\n",
      "Epoch  17 Batch  600/1077 - Train Accuracy: 0.9308, Validation Accuracy: 0.9062, Loss: 0.0416\n",
      "Epoch  17 Batch  650/1077 - Train Accuracy: 0.9340, Validation Accuracy: 0.9052, Loss: 0.0392\n",
      "Epoch  17 Batch  700/1077 - Train Accuracy: 0.9285, Validation Accuracy: 0.8981, Loss: 0.0393\n",
      "Epoch  17 Batch  750/1077 - Train Accuracy: 0.9109, Validation Accuracy: 0.9162, Loss: 0.0454\n",
      "Epoch  17 Batch  800/1077 - Train Accuracy: 0.9336, Validation Accuracy: 0.9087, Loss: 0.0380\n",
      "Epoch  17 Batch  850/1077 - Train Accuracy: 0.9066, Validation Accuracy: 0.9070, Loss: 0.0575\n",
      "Epoch  17 Batch  900/1077 - Train Accuracy: 0.9391, Validation Accuracy: 0.9123, Loss: 0.0417\n",
      "Epoch  17 Batch  950/1077 - Train Accuracy: 0.9267, Validation Accuracy: 0.9016, Loss: 0.0366\n",
      "Epoch  17 Batch 1000/1077 - Train Accuracy: 0.9066, Validation Accuracy: 0.8938, Loss: 0.0482\n",
      "Epoch  17 Batch 1050/1077 - Train Accuracy: 0.9473, Validation Accuracy: 0.9055, Loss: 0.0334\n",
      "Epoch  18 Batch   50/1077 - Train Accuracy: 0.9395, Validation Accuracy: 0.9155, Loss: 0.0411\n",
      "Epoch  18 Batch  100/1077 - Train Accuracy: 0.9535, Validation Accuracy: 0.9141, Loss: 0.0375\n",
      "Epoch  18 Batch  150/1077 - Train Accuracy: 0.9427, Validation Accuracy: 0.9094, Loss: 0.0376\n",
      "Epoch  18 Batch  200/1077 - Train Accuracy: 0.9137, Validation Accuracy: 0.9073, Loss: 0.0417\n",
      "Epoch  18 Batch  250/1077 - Train Accuracy: 0.9446, Validation Accuracy: 0.9130, Loss: 0.0374\n",
      "Epoch  18 Batch  300/1077 - Train Accuracy: 0.9494, Validation Accuracy: 0.9091, Loss: 0.0319\n",
      "Epoch  18 Batch  350/1077 - Train Accuracy: 0.9391, Validation Accuracy: 0.9062, Loss: 0.0378\n",
      "Epoch  18 Batch  400/1077 - Train Accuracy: 0.9363, Validation Accuracy: 0.9073, Loss: 0.0527\n",
      "Epoch  18 Batch  450/1077 - Train Accuracy: 0.9461, Validation Accuracy: 0.9034, Loss: 0.0455\n",
      "Epoch  18 Batch  500/1077 - Train Accuracy: 0.9277, Validation Accuracy: 0.9002, Loss: 0.0326\n",
      "Epoch  18 Batch  550/1077 - Train Accuracy: 0.9141, Validation Accuracy: 0.9087, Loss: 0.0367\n",
      "Epoch  18 Batch  600/1077 - Train Accuracy: 0.9334, Validation Accuracy: 0.9045, Loss: 0.0404\n",
      "Epoch  18 Batch  650/1077 - Train Accuracy: 0.9340, Validation Accuracy: 0.9009, Loss: 0.0365\n",
      "Epoch  18 Batch  700/1077 - Train Accuracy: 0.9320, Validation Accuracy: 0.8999, Loss: 0.0357\n",
      "Epoch  18 Batch  750/1077 - Train Accuracy: 0.9145, Validation Accuracy: 0.9091, Loss: 0.0391\n",
      "Epoch  18 Batch  800/1077 - Train Accuracy: 0.9340, Validation Accuracy: 0.9229, Loss: 0.0358\n",
      "Epoch  18 Batch  850/1077 - Train Accuracy: 0.9126, Validation Accuracy: 0.9062, Loss: 0.0547\n",
      "Epoch  18 Batch  900/1077 - Train Accuracy: 0.9363, Validation Accuracy: 0.8999, Loss: 0.0410\n",
      "Epoch  18 Batch  950/1077 - Train Accuracy: 0.9211, Validation Accuracy: 0.9094, Loss: 0.0380\n",
      "Epoch  18 Batch 1000/1077 - Train Accuracy: 0.9103, Validation Accuracy: 0.8938, Loss: 0.0441\n",
      "Epoch  18 Batch 1050/1077 - Train Accuracy: 0.9617, Validation Accuracy: 0.9094, Loss: 0.0292\n",
      "Epoch  19 Batch   50/1077 - Train Accuracy: 0.9461, Validation Accuracy: 0.9265, Loss: 0.0382\n",
      "Epoch  19 Batch  100/1077 - Train Accuracy: 0.9535, Validation Accuracy: 0.9215, Loss: 0.0348\n",
      "Epoch  19 Batch  150/1077 - Train Accuracy: 0.9382, Validation Accuracy: 0.9141, Loss: 0.0394\n",
      "Epoch  19 Batch  200/1077 - Train Accuracy: 0.9145, Validation Accuracy: 0.9002, Loss: 0.0394\n",
      "Epoch  19 Batch  250/1077 - Train Accuracy: 0.9446, Validation Accuracy: 0.9180, Loss: 0.0365\n",
      "Epoch  19 Batch  300/1077 - Train Accuracy: 0.9457, Validation Accuracy: 0.9205, Loss: 0.0317\n",
      "Epoch  19 Batch  350/1077 - Train Accuracy: 0.9332, Validation Accuracy: 0.9013, Loss: 0.0360\n",
      "Epoch  19 Batch  400/1077 - Train Accuracy: 0.9477, Validation Accuracy: 0.9155, Loss: 0.0477\n",
      "Epoch  19 Batch  450/1077 - Train Accuracy: 0.9461, Validation Accuracy: 0.9084, Loss: 0.0442\n",
      "Epoch  19 Batch  500/1077 - Train Accuracy: 0.9336, Validation Accuracy: 0.9123, Loss: 0.0312\n",
      "Epoch  19 Batch  550/1077 - Train Accuracy: 0.9203, Validation Accuracy: 0.9183, Loss: 0.0340\n",
      "Epoch  19 Batch  600/1077 - Train Accuracy: 0.9438, Validation Accuracy: 0.9062, Loss: 0.0376\n",
      "Epoch  19 Batch  650/1077 - Train Accuracy: 0.9340, Validation Accuracy: 0.9073, Loss: 0.0343\n",
      "Epoch  19 Batch  700/1077 - Train Accuracy: 0.9414, Validation Accuracy: 0.9077, Loss: 0.0331\n",
      "Epoch  19 Batch  750/1077 - Train Accuracy: 0.9141, Validation Accuracy: 0.9112, Loss: 0.0367\n",
      "Epoch  19 Batch  800/1077 - Train Accuracy: 0.9316, Validation Accuracy: 0.9190, Loss: 0.0340\n",
      "Epoch  19 Batch  850/1077 - Train Accuracy: 0.9137, Validation Accuracy: 0.9080, Loss: 0.0528\n",
      "Epoch  19 Batch  900/1077 - Train Accuracy: 0.9469, Validation Accuracy: 0.9073, Loss: 0.0355\n",
      "Epoch  19 Batch  950/1077 - Train Accuracy: 0.9204, Validation Accuracy: 0.9098, Loss: 0.0347\n",
      "Epoch  19 Batch 1000/1077 - Train Accuracy: 0.9163, Validation Accuracy: 0.9102, Loss: 0.0428\n",
      "Epoch  19 Batch 1050/1077 - Train Accuracy: 0.9664, Validation Accuracy: 0.9190, Loss: 0.0263\n",
      "Model Trained and Saved\n"
     ]
    }
   ],
   "source": [
    "\"\"\"\n",
    "DON'T MODIFY ANYTHING IN THIS CELL\n",
    "\"\"\"\n",
    "def get_accuracy(target, logits):\n",
    "    \"\"\"\n",
    "    Calculate accuracy\n",
    "    \"\"\"\n",
    "    max_seq = max(target.shape[1], logits.shape[1])\n",
    "    if max_seq - target.shape[1]:\n",
    "        target = np.pad(\n",
    "            target,\n",
    "            [(0,0),(0,max_seq - target.shape[1])],\n",
    "            'constant')\n",
    "    if max_seq - logits.shape[1]:\n",
    "        logits = np.pad(\n",
    "            logits,\n",
    "            [(0,0),(0,max_seq - logits.shape[1])],\n",
    "            'constant')\n",
    "\n",
    "    return np.mean(np.equal(target, logits))\n",
    "\n",
    "# Split data to training and validation sets\n",
    "train_source = source_int_text[batch_size:]\n",
    "train_target = target_int_text[batch_size:]\n",
    "valid_source = source_int_text[:batch_size]\n",
    "valid_target = target_int_text[:batch_size]\n",
    "(valid_sources_batch, valid_targets_batch, valid_sources_lengths, valid_targets_lengths ) = next(get_batches(valid_source,\n",
    "                                                                                                             valid_target,\n",
    "                                                                                                             batch_size,\n",
    "                                                                                                             source_vocab_to_int['<PAD>'],\n",
    "                                                                                                             target_vocab_to_int['<PAD>']))                                                                                                  \n",
    "with tf.Session(graph=train_graph) as sess:\n",
    "    sess.run(tf.global_variables_initializer())\n",
    "\n",
    "    for epoch_i in range(epochs):\n",
    "        for batch_i, (source_batch, target_batch, sources_lengths, targets_lengths) in enumerate(\n",
    "                get_batches(train_source, train_target, batch_size,\n",
    "                            source_vocab_to_int['<PAD>'],\n",
    "                            target_vocab_to_int['<PAD>'])):\n",
    "\n",
    "            _, loss = sess.run(\n",
    "                [train_op, cost],\n",
    "                {input_data: source_batch,\n",
    "                 targets: target_batch,\n",
    "                 lr: learning_rate,\n",
    "                 target_sequence_length: targets_lengths,\n",
    "                 source_sequence_length: sources_lengths,\n",
    "                 keep_prob: keep_probability})\n",
    "\n",
    "\n",
    "            if batch_i % display_step == 0 and batch_i > 0:\n",
    "\n",
    "\n",
    "                batch_train_logits = sess.run(\n",
    "                    inference_logits,\n",
    "                    {input_data: source_batch,\n",
    "                     source_sequence_length: sources_lengths,\n",
    "                     target_sequence_length: targets_lengths,\n",
    "                     keep_prob: 1.0})\n",
    "\n",
    "\n",
    "                batch_valid_logits = sess.run(\n",
    "                    inference_logits,\n",
    "                    {input_data: valid_sources_batch,\n",
    "                     source_sequence_length: valid_sources_lengths,\n",
    "                     target_sequence_length: valid_targets_lengths,\n",
    "                     keep_prob: 1.0})\n",
    "\n",
    "                train_acc = get_accuracy(target_batch, batch_train_logits)\n",
    "\n",
    "                valid_acc = get_accuracy(valid_targets_batch, batch_valid_logits)\n",
    "\n",
    "                print('Epoch {:>3} Batch {:>4}/{} - Train Accuracy: {:>6.4f}, Validation Accuracy: {:>6.4f}, Loss: {:>6.4f}'\n",
    "                      .format(epoch_i, batch_i, len(source_int_text) // batch_size, train_acc, valid_acc, loss))\n",
    "\n",
    "    # Save Model\n",
    "    saver = tf.train.Saver()\n",
    "    saver.save(sess, save_path)\n",
    "    print('Model Trained and Saved')"
   ]
  },
  {
   "cell_type": "markdown",
   "metadata": {
    "deletable": true,
    "editable": true
   },
   "source": [
    "### Save Parameters\n",
    "Save the `batch_size` and `save_path` parameters for inference."
   ]
  },
  {
   "cell_type": "code",
   "execution_count": 38,
   "metadata": {
    "collapsed": true,
    "deletable": true,
    "editable": true
   },
   "outputs": [],
   "source": [
    "\"\"\"\n",
    "DON'T MODIFY ANYTHING IN THIS CELL\n",
    "\"\"\"\n",
    "# Save parameters for checkpoint\n",
    "helper.save_params(save_path)"
   ]
  },
  {
   "cell_type": "markdown",
   "metadata": {
    "deletable": true,
    "editable": true
   },
   "source": [
    "# Checkpoint"
   ]
  },
  {
   "cell_type": "code",
   "execution_count": 39,
   "metadata": {
    "collapsed": false,
    "deletable": true,
    "editable": true
   },
   "outputs": [],
   "source": [
    "\"\"\"\n",
    "DON'T MODIFY ANYTHING IN THIS CELL\n",
    "\"\"\"\n",
    "import tensorflow as tf\n",
    "import numpy as np\n",
    "import helper\n",
    "import problem_unittests as tests\n",
    "\n",
    "_, (source_vocab_to_int, target_vocab_to_int), (source_int_to_vocab, target_int_to_vocab) = helper.load_preprocess()\n",
    "load_path = helper.load_params()"
   ]
  },
  {
   "cell_type": "markdown",
   "metadata": {
    "deletable": true,
    "editable": true
   },
   "source": [
    "## Sentence to Sequence\n",
    "To feed a sentence into the model for translation, you first need to preprocess it.  Implement the function `sentence_to_seq()` to preprocess new sentences.\n",
    "\n",
    "- Convert the sentence to lowercase\n",
    "- Convert words into ids using `vocab_to_int`\n",
    " - Convert words not in the vocabulary, to the `<UNK>` word id."
   ]
  },
  {
   "cell_type": "code",
   "execution_count": 40,
   "metadata": {
    "collapsed": false,
    "deletable": true,
    "editable": true
   },
   "outputs": [
    {
     "name": "stdout",
     "output_type": "stream",
     "text": [
      "Tests Passed\n"
     ]
    }
   ],
   "source": [
    "def sentence_to_seq(sentence, vocab_to_int):\n",
    "    \"\"\"\n",
    "    Convert a sentence to a sequence of ids\n",
    "    :param sentence: String\n",
    "    :param vocab_to_int: Dictionary to go from the words to an id\n",
    "    :return: List of word ids\n",
    "    \"\"\"\n",
    "    # TODO: Implement Function\n",
    "    temp = []\n",
    "    low = sentence.lower()\n",
    "    for word in low.split():\n",
    "        if word in vocab_to_int:\n",
    "            temp.append(vocab_to_int[word])\n",
    "        else:\n",
    "            temp.append(vocab_to_int['<UNK>'])\n",
    "    return temp\n",
    "\n",
    "\n",
    "\"\"\"\n",
    "DON'T MODIFY ANYTHING IN THIS CELL THAT IS BELOW THIS LINE\n",
    "\"\"\"\n",
    "tests.test_sentence_to_seq(sentence_to_seq)"
   ]
  },
  {
   "cell_type": "markdown",
   "metadata": {
    "deletable": true,
    "editable": true
   },
   "source": [
    "## Translate\n",
    "This will translate `translate_sentence` from English to French."
   ]
  },
  {
   "cell_type": "code",
   "execution_count": 41,
   "metadata": {
    "collapsed": false,
    "deletable": true,
    "editable": true
   },
   "outputs": [
    {
     "name": "stdout",
     "output_type": "stream",
     "text": [
      "INFO:tensorflow:Restoring parameters from checkpoints/dev\n",
      "Input\n",
      "  Word Ids:      [20, 201, 126, 56, 194, 179, 162]\n",
      "  English Words: ['he', 'saw', 'a', 'old', 'yellow', 'truck', '.']\n",
      "\n",
      "Prediction\n",
      "  Word Ids:      [31, 184, 184, 266, 97, 127, 328, 1]\n",
      "  French Words: il est est le raisin jaune . <EOS>\n"
     ]
    }
   ],
   "source": [
    "translate_sentence = 'he saw a old yellow truck .'\n",
    "\n",
    "\n",
    "\"\"\"\n",
    "DON'T MODIFY ANYTHING IN THIS CELL\n",
    "\"\"\"\n",
    "translate_sentence = sentence_to_seq(translate_sentence, source_vocab_to_int)\n",
    "\n",
    "loaded_graph = tf.Graph()\n",
    "with tf.Session(graph=loaded_graph) as sess:\n",
    "    # Load saved model\n",
    "    loader = tf.train.import_meta_graph(load_path + '.meta')\n",
    "    loader.restore(sess, load_path)\n",
    "\n",
    "    input_data = loaded_graph.get_tensor_by_name('input:0')\n",
    "    logits = loaded_graph.get_tensor_by_name('predictions:0')\n",
    "    target_sequence_length = loaded_graph.get_tensor_by_name('target_sequence_length:0')\n",
    "    source_sequence_length = loaded_graph.get_tensor_by_name('source_sequence_length:0')\n",
    "    keep_prob = loaded_graph.get_tensor_by_name('keep_prob:0')\n",
    "\n",
    "    translate_logits = sess.run(logits, {input_data: [translate_sentence]*batch_size,\n",
    "                                         target_sequence_length: [len(translate_sentence)*2]*batch_size,\n",
    "                                         source_sequence_length: [len(translate_sentence)]*batch_size,\n",
    "                                         keep_prob: 1.0})[0]\n",
    "\n",
    "print('Input')\n",
    "print('  Word Ids:      {}'.format([i for i in translate_sentence]))\n",
    "print('  English Words: {}'.format([source_int_to_vocab[i] for i in translate_sentence]))\n",
    "\n",
    "print('\\nPrediction')\n",
    "print('  Word Ids:      {}'.format([i for i in translate_logits]))\n",
    "print('  French Words: {}'.format(\" \".join([target_int_to_vocab[i] for i in translate_logits])))\n"
   ]
  },
  {
   "cell_type": "markdown",
   "metadata": {
    "deletable": true,
    "editable": true
   },
   "source": [
    "## Imperfect Translation\n",
    "You might notice that some sentences translate better than others.  Since the dataset you're using only has a vocabulary of 227 English words of the thousands that you use, you're only going to see good results using these words.  For this project, you don't need a perfect translation. However, if you want to create a better translation model, you'll need better data.\n",
    "\n",
    "You can train on the [WMT10 French-English corpus](http://www.statmt.org/wmt10/training-giga-fren.tar).  This dataset has more vocabulary and richer in topics discussed.  However, this will take you days to train, so make sure you've a GPU and the neural network is performing well on dataset we provided.  Just make sure you play with the WMT10 corpus after you've submitted this project.\n",
    "## Submitting This Project\n",
    "When submitting this project, make sure to run all the cells before saving the notebook. Save the notebook file as \"dlnd_language_translation.ipynb\" and save it as a HTML file under \"File\" -> \"Download as\". Include the \"helper.py\" and \"problem_unittests.py\" files in your submission."
   ]
  }
 ],
 "metadata": {
  "anaconda-cloud": {},
  "kernelspec": {
   "display_name": "Python 3",
   "language": "python",
   "name": "python3"
  },
  "language_info": {
   "codemirror_mode": {
    "name": "ipython",
    "version": 3
   },
   "file_extension": ".py",
   "mimetype": "text/x-python",
   "name": "python",
   "nbconvert_exporter": "python",
   "pygments_lexer": "ipython3",
   "version": "3.5.2"
  },
  "widgets": {
   "state": {},
   "version": "1.1.2"
  }
 },
 "nbformat": 4,
 "nbformat_minor": 1
}
